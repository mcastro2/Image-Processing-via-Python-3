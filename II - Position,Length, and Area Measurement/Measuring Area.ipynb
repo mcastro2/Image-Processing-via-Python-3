{
  "nbformat": 4,
  "nbformat_minor": 0,
  "metadata": {
    "colab": {
      "name": "Activity4.ipynb",
      "provenance": [],
      "collapsed_sections": []
    },
    "kernelspec": {
      "name": "python3",
      "display_name": "Python 3"
    },
    "accelerator": "GPU"
  },
  "cells": [
    {
      "cell_type": "markdown",
      "metadata": {
        "id": "D7ua1FjVWRsD",
        "colab_type": "text"
      },
      "source": [
        "#Importing packages"
      ]
    },
    {
      "cell_type": "code",
      "metadata": {
        "id": "S9IaXfYaj647",
        "colab_type": "code",
        "colab": {}
      },
      "source": [
        "import cv2\n",
        "from google.colab.patches import cv2_imshow\n",
        "import numpy as np\n",
        "import math\n",
        "!pip install latex\n",
        "import latex\n",
        "import matplotlib.image as mpimg\n",
        "import matplotlib.pyplot as plt\n",
        "import pandas as pd"
      ],
      "execution_count": 0,
      "outputs": []
    },
    {
      "cell_type": "code",
      "metadata": {
        "id": "eH-_RGhKllfb",
        "colab_type": "code",
        "colab": {}
      },
      "source": [
        "from google.colab import drive\n",
        "drive.mount('/content/drive')"
      ],
      "execution_count": 0,
      "outputs": []
    },
    {
      "cell_type": "markdown",
      "metadata": {
        "id": "cpojNpiis_1T",
        "colab_type": "text"
      },
      "source": [
        "#Circle"
      ]
    },
    {
      "cell_type": "markdown",
      "metadata": {
        "id": "va3vb0i135zC",
        "colab_type": "text"
      },
      "source": [
        "##Creating an image of the circle"
      ]
    },
    {
      "cell_type": "code",
      "metadata": {
        "id": "YlLoGn46lFuv",
        "colab_type": "code",
        "outputId": "769ad833-ad1f-422a-8d63-a853c75ecd4f",
        "colab": {
          "base_uri": "https://localhost:8080/",
          "height": 218
        }
      },
      "source": [
        "image = cv2.imread(\"/content/drive/My Drive/186/Activity4/201x201.png\") \n",
        "cv2.circle(image,(101, 101), 70,(255, 255, 255),thickness = -1)\n",
        "cv2_imshow(image)"
      ],
      "execution_count": 0,
      "outputs": [
        {
          "output_type": "display_data",
          "data": {
            "image/png": "[encoded data removed]",
            "text/plain": [
              "<PIL.Image.Image image mode=RGB size=201x201 at 0x7F35873C0DD8>"
            ]
          },
          "metadata": {
            "tags": []
          }
        }
      ]
    },
    {
      "cell_type": "markdown",
      "metadata": {
        "id": "JpqntjF14A_a",
        "colab_type": "text"
      },
      "source": [
        "##Getting the Edge Pixels of the Circle"
      ]
    },
    {
      "cell_type": "code",
      "metadata": {
        "id": "cHnc0S1yrk81",
        "colab_type": "code",
        "outputId": "db25ad5d-fcc9-44a9-b9da-37c2196edadf",
        "colab": {
          "base_uri": "https://localhost:8080/",
          "height": 218
        }
      },
      "source": [
        "edges = cv2.Canny(image,255,255)\n",
        "cv2_imshow(edges)"
      ],
      "execution_count": 0,
      "outputs": [
        {
          "output_type": "display_data",
          "data": {
            "image/png": "[encoded data removed]",
            "text/plain": [
              "<PIL.Image.Image image mode=L size=201x201 at 0x7F3587839E48>"
            ]
          },
          "metadata": {
            "tags": []
          }
        }
      ]
    },
    {
      "cell_type": "code",
      "metadata": {
        "id": "wzY379VvtF9L",
        "colab_type": "code",
        "colab": {}
      },
      "source": [
        "indices = np.where(edges != [0])\n",
        "coordinates = zip(indices[0], indices[1])\n",
        "coords = list(coordinates)"
      ],
      "execution_count": 0,
      "outputs": []
    },
    {
      "cell_type": "markdown",
      "metadata": {
        "id": "bACVLIfL4Wvo",
        "colab_type": "text"
      },
      "source": [
        "##Determining the centroid of the circle and sorting the list with respect to $\\theta$."
      ]
    },
    {
      "cell_type": "code",
      "metadata": {
        "id": "aNB20Ag8x6_D",
        "colab_type": "code",
        "outputId": "53cab81d-ec5d-4dce-a59f-bf8f32804d69",
        "colab": {
          "base_uri": "https://localhost:8080/",
          "height": 35
        }
      },
      "source": [
        "x = [p[0] for p in coords]\n",
        "y = [p[1] for p in coords]\n",
        "centroid = (sum(x) / len(coords), sum(y) / len(coords))\n",
        "print(centroid)"
      ],
      "execution_count": 0,
      "outputs": [
        {
          "output_type": "stream",
          "text": [
            "(100.93103448275862, 100.93103448275862)\n"
          ],
          "name": "stdout"
        }
      ]
    },
    {
      "cell_type": "code",
      "metadata": {
        "id": "Up6C6BkTvCEr",
        "colab_type": "code",
        "colab": {}
      },
      "source": [
        "coords_polar = list()\n",
        "for k in coords:\n",
        "  x =((k[0] - centroid[0]))\n",
        "  y =((k[1] - centroid[1]))\n",
        "  r = np.sqrt(x**2 + y**2)\n",
        "  theta = (np.arctan2(y,x))\n",
        "  coords_polar.append(tuple((tuple((k[0],k[1])),theta)))"
      ],
      "execution_count": 0,
      "outputs": []
    },
    {
      "cell_type": "code",
      "metadata": {
        "id": "vE4dG2J8C7GO",
        "colab_type": "code",
        "colab": {}
      },
      "source": [
        "sort_polar = sorted(coords_polar , key=lambda k: [k[1],k[0]])  \n",
        "#Converting list into an array\n",
        "sorted_xy = []\n",
        "for polars in sort_polar:\n",
        "  sorted_xy.append(polars[0])"
      ],
      "execution_count": 0,
      "outputs": []
    },
    {
      "cell_type": "markdown",
      "metadata": {
        "id": "p_jL4gns5O-I",
        "colab_type": "text"
      },
      "source": [
        "##Calculating the Area of the Circle"
      ]
    },
    {
      "cell_type": "code",
      "metadata": {
        "id": "KjmHybKu4HH7",
        "colab_type": "code",
        "colab": {}
      },
      "source": [
        "area = 0\n",
        "for t in range(len(sorted_xy)-1):\n",
        "  A = ((sorted_xy[t][0]*sorted_xy[t+1][1]) - (sorted_xy[t][1]*sorted_xy[t+1][0]))\n",
        "  area += A"
      ],
      "execution_count": 0,
      "outputs": []
    },
    {
      "cell_type": "markdown",
      "metadata": {
        "id": "fH3QYV6k5WR6",
        "colab_type": "text"
      },
      "source": [
        "##Comparison of Areas (Calculated vs Expected)"
      ]
    },
    {
      "cell_type": "code",
      "metadata": {
        "id": "-wg7hgYp8OYl",
        "colab_type": "code",
        "outputId": "751fb76f-4d7a-41a1-8649-2e210be587d9",
        "colab": {
          "base_uri": "https://localhost:8080/",
          "height": 72
        }
      },
      "source": [
        "print('The expected area of the circle is ',3.14*4900,'units^2.')\n",
        "print('The calculated area of the circle via Green\\'s Theorem is ',area/2,'units^2.')\n",
        "print('Error in calculation between expected and calculated is', round((((3.14*4900)-(area/2))/(3.14*4900))*100,3),'%.')"
      ],
      "execution_count": 0,
      "outputs": [
        {
          "output_type": "stream",
          "text": [
            "The expected area of the circle is  15386.0 units^2.\n",
            "The calculated area of the circle via Green's Theorem is  15387.5 units^2.\n",
            "Error in calculation between expected and calculated is -0.01 %.\n"
          ],
          "name": "stdout"
        }
      ]
    },
    {
      "cell_type": "markdown",
      "metadata": {
        "id": "1hoi0IrP71gp",
        "colab_type": "text"
      },
      "source": [
        "##Streamlining the *process* into a single definition"
      ]
    },
    {
      "cell_type": "code",
      "metadata": {
        "id": "OUCUWnuO79v-",
        "colab_type": "code",
        "colab": {}
      },
      "source": [
        "def area_calculation(radius,plots = False):\n",
        "  image = cv2.imread(\"/content/drive/My Drive/186/Activity4/201x201.png\") \n",
        "  cv2.circle(image,(101, 101), radius,(255, 255, 255),thickness = -1)\n",
        "  cv2.imwrite('circle'+str(radius)+'.png',image)\n",
        "  circleplot = mpimg.imread('circle'+str(radius)+'.png')\n",
        "  edges = cv2.Canny(image,255,255)\n",
        "  cv2.imwrite('circle_edges'+str(radius)+'.png',edges)\n",
        "  circle_edgesplot = mpimg.imread('circle_edges'+str(radius)+'.png')\n",
        "  indices = np.where(edges != [0])\n",
        "  coordinates = zip(indices[0], indices[1])\n",
        "  coords = list(coordinates)\n",
        "  x = [p[0] for p in coords]\n",
        "  y = [p[1] for p in coords]\n",
        "  centroid = (sum(x) / len(coords), sum(y) / len(coords))\n",
        "  coords_polar = list()\n",
        "  for k in coords:\n",
        "    x =((k[0] - centroid[0]))\n",
        "    y =((k[1] - centroid[1]))\n",
        "    r = np.sqrt(x**2 + y**2)\n",
        "    theta = (np.arctan2(y,x))\n",
        "    coords_polar.append(tuple((tuple((k[0],k[1])),theta)))\n",
        "  sort_polar = sorted(coords_polar , key=lambda k: [k[1],k[0]])  \n",
        "  #Converting list into an array\n",
        "  sorted_xy = []\n",
        "  for polars in sort_polar:\n",
        "    sorted_xy.append(polars[0])\n",
        "  area = 0\n",
        "  for t in range(len(sorted_xy)-1):\n",
        "    A = ((sorted_xy[t][0]*sorted_xy[t+1][1]) - (sorted_xy[t][1]*sorted_xy[t+1][0]))\n",
        "    area += A\n",
        "  expect = 3.14*(radius**2)\n",
        "  error = abs(round((((expect)-(area/2))/(expect))*100,3))\n",
        "  if plots is True:\n",
        "    fig = plt.figure()\n",
        "    a = fig.add_subplot(1, 2, 1)\n",
        "    imgplot = plt.imshow(circleplot,vmin=0, vmax = 255)\n",
        "    a.set_title('Circle of radius '+str(radius)+' units.')\n",
        "    a = fig.add_subplot(1, 2, 2)\n",
        "    imgplot = plt.imshow(circle_edgesplot, cmap = 'binary_r')\n",
        "    a.set_title('Edge of the circle of radius '+str(radius)+' units.')\n",
        "    plt.subplots_adjust(wspace =0.9)\n",
        "\n",
        "  return expect,area/2,error "
      ],
      "execution_count": 0,
      "outputs": []
    },
    {
      "cell_type": "markdown",
      "metadata": {
        "id": "YmeKYxBYjbXb",
        "colab_type": "text"
      },
      "source": [
        "#Calculating the Area for various radii"
      ]
    },
    {
      "cell_type": "code",
      "metadata": {
        "id": "SvF-fO0WVCVT",
        "colab_type": "code",
        "outputId": "87e50dd5-6c12-456c-c163-d9ac90b10112",
        "colab": {
          "base_uri": "https://localhost:8080/",
          "height": 1000
        }
      },
      "source": [
        "trial_radius = [1,5,10,20,25,40,70,80,90,100]\n",
        "for z in trial_radius:\n",
        "  a = area_calculation(int(z),True)"
      ],
      "execution_count": 0,
      "outputs": [
        {
          "output_type": "display_data",
          "data": {
            "image/png": "[encoded data removed]",
            "text/plain": [
              "<Figure size 432x288 with 2 Axes>"
            ]
          },
          "metadata": {
            "tags": []
          }
        },
        {
          "output_type": "display_data",
          "data": {
            "image/png": "[encoded data removed]",
            "text/plain": [
              "<Figure size 432x288 with 2 Axes>"
            ]
          },
          "metadata": {
            "tags": []
          }
        },
        {
          "output_type": "display_data",
          "data": {
            "image/png": "[encoded data removed]",
            "text/plain": [
              "<Figure size 432x288 with 2 Axes>"
            ]
          },
          "metadata": {
            "tags": []
          }
        },
        {
          "output_type": "display_data",
          "data": {
            "image/png": "[encoded data removed]",
            "text/plain": [
              "<Figure size 432x288 with 2 Axes>"
            ]
          },
          "metadata": {
            "tags": []
          }
        },
        {
          "output_type": "display_data",
          "data": {
            "image/png": "[encoded data removed]",
            "text/plain": [
              "<Figure size 432x288 with 2 Axes>"
            ]
          },
          "metadata": {
            "tags": []
          }
        },
        {
          "output_type": "display_data",
          "data": {
            "image/png": "[encoded data removed]",
            "text/plain": [
              "<Figure size 432x288 with 2 Axes>"
            ]
          },
          "metadata": {
            "tags": []
          }
        },
        {
          "output_type": "display_data",
          "data": {
            "image/png": "[encoded data removed]",
            "text/plain": [
              "<Figure size 432x288 with 2 Axes>"
            ]
          },
          "metadata": {
            "tags": []
          }
        },
        {
          "output_type": "display_data",
          "data": {
            "image/png": "[encoded data removed]",
            "text/plain": [
              "<Figure size 432x288 with 2 Axes>"
            ]
          },
          "metadata": {
            "tags": []
          }
        },
        {
          "output_type": "display_data",
          "data": {
            "image/png": "[encoded data removed]",
            "text/plain": [
              "<Figure size 432x288 with 2 Axes>"
            ]
          },
          "metadata": {
            "tags": []
          }
        },
        {
          "output_type": "display_data",
          "data": {
            "image/png": "[encoded data removed]",
            "text/plain": [
              "<Figure size 432x288 with 2 Axes>"
            ]
          },
          "metadata": {
            "tags": []
          }
        }
      ]
    },
    {
      "cell_type": "code",
      "metadata": {
        "id": "1m2YKwXAAzY4",
        "colab_type": "code",
        "outputId": "593e6ba5-3f82-4de1-bc34-2b810b9ef070",
        "colab": {
          "base_uri": "https://localhost:8080/",
          "height": 1000
        }
      },
      "source": [
        "trial_radius2 = np.linspace(1,30,30)\n",
        "ex = []\n",
        "cal = []\n",
        "error = []\n",
        "for z in trial_radius2:\n",
        "  a = area_calculation(int(z),False)\n",
        "  ex.append(a[0])\n",
        "  cal.append(a[1])\n",
        "  error.append(a[2])\n",
        "  print('Circle radius =', z)\n",
        "  print('The expected area of the circle is ',a[0],'units^2.')\n",
        "  print('The calculated area of the circle via Green\\'s Theorem is ',a[1],'units^2.')\n",
        "  print('Error in calculation between expected and calculated is',a[2],'%.')\n",
        "  print('\\n')"
      ],
      "execution_count": 0,
      "outputs": [
        {
          "output_type": "stream",
          "text": [
            "Circle radius = 1.0\n",
            "The expected area of the circle is  3.14 units^2.\n",
            "The calculated area of the circle via Green's Theorem is  54.0 units^2.\n",
            "Error in calculation between expected and calculated is 1619.745 %.\n",
            "\n",
            "\n",
            "Circle radius = 2.0\n",
            "The expected area of the circle is  12.56 units^2.\n",
            "The calculated area of the circle via Green's Theorem is  61.5 units^2.\n",
            "Error in calculation between expected and calculated is 389.65 %.\n",
            "\n",
            "\n",
            "Circle radius = 3.0\n",
            "The expected area of the circle is  28.26 units^2.\n",
            "The calculated area of the circle via Green's Theorem is  77.0 units^2.\n",
            "Error in calculation between expected and calculated is 172.47 %.\n",
            "\n",
            "\n",
            "Circle radius = 4.0\n",
            "The expected area of the circle is  50.24 units^2.\n",
            "The calculated area of the circle via Green's Theorem is  96.5 units^2.\n",
            "Error in calculation between expected and calculated is 92.078 %.\n",
            "\n",
            "\n",
            "Circle radius = 5.0\n",
            "The expected area of the circle is  78.5 units^2.\n",
            "The calculated area of the circle via Green's Theorem is  128.0 units^2.\n",
            "Error in calculation between expected and calculated is 63.057 %.\n",
            "\n",
            "\n",
            "Circle radius = 6.0\n",
            "The expected area of the circle is  113.04 units^2.\n",
            "The calculated area of the circle via Green's Theorem is  159.5 units^2.\n",
            "Error in calculation between expected and calculated is 41.1 %.\n",
            "\n",
            "\n",
            "Circle radius = 7.0\n",
            "The expected area of the circle is  153.86 units^2.\n",
            "The calculated area of the circle via Green's Theorem is  195.0 units^2.\n",
            "Error in calculation between expected and calculated is 26.739 %.\n",
            "\n",
            "\n",
            "Circle radius = 8.0\n",
            "The expected area of the circle is  200.96 units^2.\n",
            "The calculated area of the circle via Green's Theorem is  242.5 units^2.\n",
            "Error in calculation between expected and calculated is 20.671 %.\n",
            "\n",
            "\n",
            "Circle radius = 9.0\n",
            "The expected area of the circle is  254.34 units^2.\n",
            "The calculated area of the circle via Green's Theorem is  298.0 units^2.\n",
            "Error in calculation between expected and calculated is 17.166 %.\n",
            "\n",
            "\n",
            "Circle radius = 10.0\n",
            "The expected area of the circle is  314.0 units^2.\n",
            "The calculated area of the circle via Green's Theorem is  361.5 units^2.\n",
            "Error in calculation between expected and calculated is 15.127 %.\n",
            "\n",
            "\n",
            "Circle radius = 11.0\n",
            "The expected area of the circle is  379.94 units^2.\n",
            "The calculated area of the circle via Green's Theorem is  421.0 units^2.\n",
            "Error in calculation between expected and calculated is 10.807 %.\n",
            "\n",
            "\n",
            "Circle radius = 12.0\n",
            "The expected area of the circle is  452.16 units^2.\n",
            "The calculated area of the circle via Green's Theorem is  484.5 units^2.\n",
            "Error in calculation between expected and calculated is 7.152 %.\n",
            "\n",
            "\n",
            "Circle radius = 13.0\n",
            "The expected area of the circle is  530.66 units^2.\n",
            "The calculated area of the circle via Green's Theorem is  572.0 units^2.\n",
            "Error in calculation between expected and calculated is 7.79 %.\n",
            "\n",
            "\n",
            "Circle radius = 14.0\n",
            "The expected area of the circle is  615.44 units^2.\n",
            "The calculated area of the circle via Green's Theorem is  655.5 units^2.\n",
            "Error in calculation between expected and calculated is 6.509 %.\n",
            "\n",
            "\n",
            "Circle radius = 15.0\n",
            "The expected area of the circle is  706.5 units^2.\n",
            "The calculated area of the circle via Green's Theorem is  751.0 units^2.\n",
            "Error in calculation between expected and calculated is 6.299 %.\n",
            "\n",
            "\n",
            "Circle radius = 16.0\n",
            "The expected area of the circle is  803.84 units^2.\n",
            "The calculated area of the circle via Green's Theorem is  838.5 units^2.\n",
            "Error in calculation between expected and calculated is 4.312 %.\n",
            "\n",
            "\n",
            "Circle radius = 17.0\n",
            "The expected area of the circle is  907.46 units^2.\n",
            "The calculated area of the circle via Green's Theorem is  942.0 units^2.\n",
            "Error in calculation between expected and calculated is 3.806 %.\n",
            "\n",
            "\n",
            "Circle radius = 18.0\n",
            "The expected area of the circle is  1017.36 units^2.\n",
            "The calculated area of the circle via Green's Theorem is  1049.5 units^2.\n",
            "Error in calculation between expected and calculated is 3.159 %.\n",
            "\n",
            "\n",
            "Circle radius = 19.0\n",
            "The expected area of the circle is  1133.54 units^2.\n",
            "The calculated area of the circle via Green's Theorem is  1169.0 units^2.\n",
            "Error in calculation between expected and calculated is 3.128 %.\n",
            "\n",
            "\n",
            "Circle radius = 20.0\n",
            "The expected area of the circle is  1256.0 units^2.\n",
            "The calculated area of the circle via Green's Theorem is  1296.5 units^2.\n",
            "Error in calculation between expected and calculated is 3.225 %.\n",
            "\n",
            "\n",
            "Circle radius = 21.0\n",
            "The expected area of the circle is  1384.74 units^2.\n",
            "The calculated area of the circle via Green's Theorem is  1412.0 units^2.\n",
            "Error in calculation between expected and calculated is 1.969 %.\n",
            "\n",
            "\n",
            "Circle radius = 22.0\n",
            "The expected area of the circle is  1519.76 units^2.\n",
            "The calculated area of the circle via Green's Theorem is  1555.5 units^2.\n",
            "Error in calculation between expected and calculated is 2.352 %.\n",
            "\n",
            "\n",
            "Circle radius = 23.0\n",
            "The expected area of the circle is  1661.0600000000002 units^2.\n",
            "The calculated area of the circle via Green's Theorem is  1691.0 units^2.\n",
            "Error in calculation between expected and calculated is 1.802 %.\n",
            "\n",
            "\n",
            "Circle radius = 24.0\n",
            "The expected area of the circle is  1808.64 units^2.\n",
            "The calculated area of the circle via Green's Theorem is  1830.5 units^2.\n",
            "Error in calculation between expected and calculated is 1.209 %.\n",
            "\n",
            "\n",
            "Circle radius = 25.0\n",
            "The expected area of the circle is  1962.5 units^2.\n",
            "The calculated area of the circle via Green's Theorem is  1998.0 units^2.\n",
            "Error in calculation between expected and calculated is 1.809 %.\n",
            "\n",
            "\n",
            "Circle radius = 26.0\n",
            "The expected area of the circle is  2122.64 units^2.\n",
            "The calculated area of the circle via Green's Theorem is  2157.5 units^2.\n",
            "Error in calculation between expected and calculated is 1.642 %.\n",
            "\n",
            "\n",
            "Circle radius = 27.0\n",
            "The expected area of the circle is  2289.06 units^2.\n",
            "The calculated area of the circle via Green's Theorem is  2325.0 units^2.\n",
            "Error in calculation between expected and calculated is 1.57 %.\n",
            "\n",
            "\n",
            "Circle radius = 28.0\n",
            "The expected area of the circle is  2461.76 units^2.\n",
            "The calculated area of the circle via Green's Theorem is  2488.5 units^2.\n",
            "Error in calculation between expected and calculated is 1.086 %.\n",
            "\n",
            "\n",
            "Circle radius = 29.0\n",
            "The expected area of the circle is  2640.7400000000002 units^2.\n",
            "The calculated area of the circle via Green's Theorem is  2664.0 units^2.\n",
            "Error in calculation between expected and calculated is 0.881 %.\n",
            "\n",
            "\n",
            "Circle radius = 30.0\n",
            "The expected area of the circle is  2826.0 units^2.\n",
            "The calculated area of the circle via Green's Theorem is  2855.5 units^2.\n",
            "Error in calculation between expected and calculated is 1.044 %.\n",
            "\n",
            "\n"
          ],
          "name": "stdout"
        }
      ]
    },
    {
      "cell_type": "code",
      "metadata": {
        "id": "WTJ1ZEiXPFl2",
        "colab_type": "code",
        "outputId": "6ccbe0c0-a8b0-4259-be30-86f92d601508",
        "colab": {
          "base_uri": "https://localhost:8080/",
          "height": 337
        }
      },
      "source": [
        "x = trial_radius2\n",
        "ax1 = plt.subplot(1,1,1)\n",
        "w = 0.3\n",
        "#plt.xticks(), will label the bars on x axis with the respective country names.\n",
        "plt.xticks(x + w /2, x, rotation='vertical')\n",
        "calc = ax1.bar(x, cal, width=w, color='b', align='center')\n",
        "exp = ax1.bar(x + w, ex, width=w,color='g',align='center')\n",
        "#The trick is to use two different axes that share the same x axis, we have used ax1.twinx() method.\n",
        "ax2 = ax1.twinx()\n",
        "#We have calculated GDP by dividing gdpPerCapita to population.\n",
        "err = ax2.bar(x+ (3/2)*w, error, width = w, color = 'red', align = 'center')\n",
        "#Set the Y axis label as GDP.\n",
        "plt.ylabel('% Error')\n",
        "ax1.set_xlabel('Radius of the Circle')\n",
        "ax1.set_ylabel('Calculated Area')\n",
        "#To set the legend on the plot we have used plt.legend()\n",
        "plt.legend([calc, exp, err],['Calculated Area', 'Expected Area', 'Percent Error'],loc='upper center', bbox_to_anchor=(0.5, -0.2),\n",
        "          fancybox=True, shadow=True, ncol=5)\n",
        "#To show the plot finally we have used plt.show()."
      ],
      "execution_count": 0,
      "outputs": [
        {
          "output_type": "execute_result",
          "data": {
            "text/plain": [
              "<matplotlib.legend.Legend at 0x7f3f6234f7f0>"
            ]
          },
          "metadata": {
            "tags": []
          },
          "execution_count": 18
        },
        {
          "output_type": "display_data",
          "data": {
            "image/png": "[encoded data removed]",
            "text/plain": [
              "<Figure size 432x288 with 2 Axes>"
            ]
          },
          "metadata": {
            "tags": []
          }
        }
      ]
    },
    {
      "cell_type": "markdown",
      "metadata": {
        "id": "HtFVTt2TtBij",
        "colab_type": "text"
      },
      "source": [
        "#Rectangle"
      ]
    },
    {
      "cell_type": "code",
      "metadata": {
        "id": "Ecmi1Nu2lkX7",
        "colab_type": "code",
        "outputId": "8c78b5c7-3755-4003-903d-5d203b9f2195",
        "colab": {
          "base_uri": "https://localhost:8080/",
          "height": 218
        }
      },
      "source": [
        "image2 = cv2.imread(\"/content/drive/My Drive/186/Activity4/201x201.png\") \n",
        "cv2.rectangle(image2, (36,41), (166,161), (255, 255, 255), thickness= -1)\n",
        "cv2_imshow(image2)"
      ],
      "execution_count": 0,
      "outputs": [
        {
          "output_type": "display_data",
          "data": {
            "image/png": "[encoded data removed]",
            "text/plain": [
              "<PIL.Image.Image image mode=RGB size=201x201 at 0x7F3F624B1CF8>"
            ]
          },
          "metadata": {
            "tags": []
          }
        }
      ]
    },
    {
      "cell_type": "code",
      "metadata": {
        "id": "Wm_Uy9-KslwD",
        "colab_type": "code",
        "outputId": "56633600-76e1-4723-cac2-40775f0aaacc",
        "colab": {
          "base_uri": "https://localhost:8080/",
          "height": 218
        }
      },
      "source": [
        "edges2 = cv2.Canny(image2,255,255)\n",
        "cv2_imshow(edges2)"
      ],
      "execution_count": 0,
      "outputs": [
        {
          "output_type": "display_data",
          "data": {
            "image/png": "[encoded data removed]",
            "text/plain": [
              "<PIL.Image.Image image mode=L size=201x201 at 0x7F3F5F65BD30>"
            ]
          },
          "metadata": {
            "tags": []
          }
        }
      ]
    },
    {
      "cell_type": "code",
      "metadata": {
        "id": "u7W-itnDuI2b",
        "colab_type": "code",
        "colab": {}
      },
      "source": [
        "indices2 = np.where(edges2 != [0])\n",
        "coordinates2 = zip(indices2[0], indices2[1])\n",
        "coords2 = list(coordinates2)"
      ],
      "execution_count": 0,
      "outputs": []
    },
    {
      "cell_type": "code",
      "metadata": {
        "id": "U-A3I16M8mND",
        "colab_type": "code",
        "colab": {}
      },
      "source": [
        "x2 = [p[0] for p in coords]\n",
        "y2 = [p[1] for p in coords]\n",
        "centroid2 = ((min(x2)+max(x2))/2 , (min(y2)+max(y2))/2)"
      ],
      "execution_count": 0,
      "outputs": []
    },
    {
      "cell_type": "markdown",
      "metadata": {
        "id": "Wvo2Q0TnqyWd",
        "colab_type": "text"
      },
      "source": [
        "##Generating rectangles and their corresponding edges"
      ]
    },
    {
      "cell_type": "code",
      "metadata": {
        "id": "EYw9DJh1VuUi",
        "colab_type": "code",
        "colab": {}
      },
      "source": [
        "def area_rec_calculation(dx,dy,plots = False):\n",
        "  image = cv2.imread(\"/content/drive/My Drive/186/Activity4/201x201.png\") \n",
        "  \n",
        "  cv2.rectangle(image,(int(101-(dx/2)), int(101-(dy/2))), (int(101+(dx/2)),int(101+(dy/2))),(255, 255, 255),thickness = -1)\n",
        "  cv2.imwrite('rectangle'+str(dx)+'x'+str(dy)+'.png',image)\n",
        "  rectangleplot = mpimg.imread('rectangle'+str(dx)+'x'+str(dy)+'.png')\n",
        "  \n",
        "  edges = cv2.Canny(image,255,255)\n",
        "  cv2.imwrite('rectangle_edges'+str(dx)+'x'+str(dy)+'.png',edges)\n",
        "  rectangle_edgesplot = mpimg.imread('rectangle_edges'+str(dx)+'x'+str(dy)+'.png')\n",
        "  \n",
        "  indices = np.where(edges != [0])\n",
        "  coordinates = zip(indices[0], indices[1])\n",
        "  coords = list(coordinates)\n",
        "  x = [p[0] for p in coords]\n",
        "  y = [p[1] for p in coords]\n",
        "  centroid = ((min(x)+max(x))/2 , (min(y)+max(y))/2)\n",
        "  coords_polar = list()\n",
        "  for k in coords:\n",
        "    x =((k[0] - centroid[0]))\n",
        "    y =((k[1] - centroid[1]))\n",
        "    r = np.sqrt(x**2 + y**2)\n",
        "    theta = (np.arctan2(y,x))\n",
        "    coords_polar.append(tuple((tuple((k[0],k[1])),theta)))\n",
        "  sort_polar = sorted(coords_polar , key=lambda k: [k[1],k[0]])  \n",
        "  #Converting list into an array\n",
        "  sorted_xy = []\n",
        "  for polars in sort_polar:\n",
        "    sorted_xy.append(polars[0])\n",
        "  area = 0\n",
        "  for t in range(len(sorted_xy)-1):\n",
        "    A = ((sorted_xy[t][0]*sorted_xy[t+1][1]) - (sorted_xy[t][1]*sorted_xy[t+1][0]))\n",
        "    area += A\n",
        "  expect = dx*dy\n",
        "  error = abs(round((((expect)-(area/2))/(expect))*100,3))\n",
        "  if plots is True:\n",
        "    fig = plt.figure()\n",
        "    a = fig.add_subplot(1, 2, 1)\n",
        "    imgplot = plt.imshow(rectangleplot,vmin=0, vmax = 255)\n",
        "    a.set_title(str(dx)+' by '+str(dy)+' Rectangle')\n",
        "    a = fig.add_subplot(1, 2, 2)\n",
        "    imgplot = plt.imshow(rectangle_edgesplot, cmap = 'binary_r')\n",
        "    a.set_title('Edge of '+ str(dx)+' by '+str(dy)+' Rectangle')\n",
        "    plt.subplots_adjust(wspace =0.25)\n",
        "\n",
        "  return expect,area/2,error "
      ],
      "execution_count": 0,
      "outputs": []
    },
    {
      "cell_type": "code",
      "metadata": {
        "id": "hojzFU5kXXeY",
        "colab_type": "code",
        "outputId": "a2cbaf6a-79af-484b-da0e-5abf12c041fd",
        "colab": {
          "base_uri": "https://localhost:8080/",
          "height": 997
        }
      },
      "source": [
        "trial_dim = [(40,40),(80,80),(150,150),(20,80),(80,20)]\n",
        "for z in trial_dim:\n",
        "  a = area_rec_calculation(z[0],z[1],True)"
      ],
      "execution_count": 0,
      "outputs": [
        {
          "output_type": "display_data",
          "data": {
            "image/png": "[encoded data removed]",
            "text/plain": [
              "<Figure size 432x288 with 2 Axes>"
            ]
          },
          "metadata": {
            "tags": []
          }
        },
        {
          "output_type": "display_data",
          "data": {
            "image/png": "[encoded data removed]",
            "text/plain": [
              "<Figure size 432x288 with 2 Axes>"
            ]
          },
          "metadata": {
            "tags": []
          }
        },
        {
          "output_type": "display_data",
          "data": {
            "image/png": "[encoded data removed]",
            "text/plain": [
              "<Figure size 432x288 with 2 Axes>"
            ]
          },
          "metadata": {
            "tags": []
          }
        },
        {
          "output_type": "display_data",
          "data": {
            "image/png": "[encoded data removed]",
            "text/plain": [
              "<Figure size 432x288 with 2 Axes>"
            ]
          },
          "metadata": {
            "tags": []
          }
        },
        {
          "output_type": "display_data",
          "data": {
            "image/png": "[encoded data removed]",
            "text/plain": [
              "<Figure size 432x288 with 2 Axes>"
            ]
          },
          "metadata": {
            "tags": []
          }
        }
      ]
    },
    {
      "cell_type": "code",
      "metadata": {
        "id": "H3Sn2SfLXpm-",
        "colab_type": "code",
        "outputId": "51459c22-b911-411b-8393-91c3fca0311e",
        "colab": {
          "base_uri": "https://localhost:8080/",
          "height": 1000
        }
      },
      "source": [
        "trial_dim2 = np.linspace(10,150,15)\n",
        "ex = []\n",
        "cal = []\n",
        "error = []\n",
        "for z in trial_dim2:\n",
        "  a = area_rec_calculation(z,z)\n",
        "  ex.append(a[0])\n",
        "  cal.append(a[1])\n",
        "  error.append(a[2])\n",
        "  print('Circle radius =', z)\n",
        "  print('The expected area of the circle is ',a[0],'units^2.')\n",
        "  print('The calculated area of the circle via Green\\'s Theorem is ',a[1],'units^2.')\n",
        "  print('Error in calculation between expected and calculated is',a[2],'%.')\n",
        "  print('\\n')"
      ],
      "execution_count": 0,
      "outputs": [
        {
          "output_type": "stream",
          "text": [
            "Circle radius = 10.0\n",
            "The expected area of the circle is  100.0 units^2.\n",
            "The calculated area of the circle via Green's Theorem is  165.5 units^2.\n",
            "Error in calculation between expected and calculated is 65.5 %.\n",
            "\n",
            "\n",
            "Circle radius = 20.0\n",
            "The expected area of the circle is  400.0 units^2.\n",
            "The calculated area of the circle via Green's Theorem is  483.0 units^2.\n",
            "Error in calculation between expected and calculated is 20.75 %.\n",
            "\n",
            "\n",
            "Circle radius = 30.0\n",
            "The expected area of the circle is  900.0 units^2.\n",
            "The calculated area of the circle via Green's Theorem is  1000.5 units^2.\n",
            "Error in calculation between expected and calculated is 11.167 %.\n",
            "\n",
            "\n",
            "Circle radius = 40.0\n",
            "The expected area of the circle is  1600.0 units^2.\n",
            "The calculated area of the circle via Green's Theorem is  1718.0 units^2.\n",
            "Error in calculation between expected and calculated is 7.375 %.\n",
            "\n",
            "\n",
            "Circle radius = 50.0\n",
            "The expected area of the circle is  2500.0 units^2.\n",
            "The calculated area of the circle via Green's Theorem is  2635.5 units^2.\n",
            "Error in calculation between expected and calculated is 5.42 %.\n",
            "\n",
            "\n",
            "Circle radius = 60.0\n",
            "The expected area of the circle is  3600.0 units^2.\n",
            "The calculated area of the circle via Green's Theorem is  3753.0 units^2.\n",
            "Error in calculation between expected and calculated is 4.25 %.\n",
            "\n",
            "\n",
            "Circle radius = 70.0\n",
            "The expected area of the circle is  4900.0 units^2.\n",
            "The calculated area of the circle via Green's Theorem is  5070.5 units^2.\n",
            "Error in calculation between expected and calculated is 3.48 %.\n",
            "\n",
            "\n",
            "Circle radius = 80.0\n",
            "The expected area of the circle is  6400.0 units^2.\n",
            "The calculated area of the circle via Green's Theorem is  6588.0 units^2.\n",
            "Error in calculation between expected and calculated is 2.938 %.\n",
            "\n",
            "\n",
            "Circle radius = 90.0\n",
            "The expected area of the circle is  8100.0 units^2.\n",
            "The calculated area of the circle via Green's Theorem is  8305.5 units^2.\n",
            "Error in calculation between expected and calculated is 2.537 %.\n",
            "\n",
            "\n",
            "Circle radius = 100.0\n",
            "The expected area of the circle is  10000.0 units^2.\n",
            "The calculated area of the circle via Green's Theorem is  10223.0 units^2.\n",
            "Error in calculation between expected and calculated is 2.23 %.\n",
            "\n",
            "\n",
            "Circle radius = 110.0\n",
            "The expected area of the circle is  12100.0 units^2.\n",
            "The calculated area of the circle via Green's Theorem is  12340.5 units^2.\n",
            "Error in calculation between expected and calculated is 1.988 %.\n",
            "\n",
            "\n",
            "Circle radius = 120.0\n",
            "The expected area of the circle is  14400.0 units^2.\n",
            "The calculated area of the circle via Green's Theorem is  14658.0 units^2.\n",
            "Error in calculation between expected and calculated is 1.792 %.\n",
            "\n",
            "\n",
            "Circle radius = 130.0\n",
            "The expected area of the circle is  16900.0 units^2.\n",
            "The calculated area of the circle via Green's Theorem is  17175.5 units^2.\n",
            "Error in calculation between expected and calculated is 1.63 %.\n",
            "\n",
            "\n",
            "Circle radius = 140.0\n",
            "The expected area of the circle is  19600.0 units^2.\n",
            "The calculated area of the circle via Green's Theorem is  19893.0 units^2.\n",
            "Error in calculation between expected and calculated is 1.495 %.\n",
            "\n",
            "\n",
            "Circle radius = 150.0\n",
            "The expected area of the circle is  22500.0 units^2.\n",
            "The calculated area of the circle via Green's Theorem is  22810.5 units^2.\n",
            "Error in calculation between expected and calculated is 1.38 %.\n",
            "\n",
            "\n"
          ],
          "name": "stdout"
        }
      ]
    },
    {
      "cell_type": "code",
      "metadata": {
        "id": "mTE7bMFfA7_S",
        "colab_type": "code",
        "outputId": "be8a0c1b-b575-47c5-ce55-9d9f4afe15f6",
        "colab": {
          "base_uri": "https://localhost:8080/",
          "height": 336
        }
      },
      "source": [
        "x = trial_dim2\n",
        "ax1 = plt.subplot(1,1,1)\n",
        "w = 2\n",
        "#plt.xticks(), will label the bars on x axis with the respective country names.\n",
        "plt.xticks(x + w /2, x, rotation='vertical')\n",
        "calc = ax1.bar(x, cal, width=w, color='b', align='center')\n",
        "exp = ax1.bar(x + w, ex, width=w,color='g',align='center')\n",
        "#The trick is to use two different axes that share the same x axis, we have used ax1.twinx() method.\n",
        "ax2 = ax1.twinx()\n",
        "#We have calculated GDP by dividing gdpPerCapita to population.\n",
        "err = ax2.bar(x+ (3/2)*w, error, width = w, color = 'red', align = 'center')\n",
        "#Set the Y axis label as GDP.\n",
        "plt.ylabel('% Error')\n",
        "ax1.set_xlabel('Dimensions of Square')\n",
        "ax1.set_ylabel('Calculated Area')\n",
        "#To set the legend on the plot we have used plt.legend()\n",
        "plt.legend([calc, exp, err],['Calculated Area', 'Expected Area', 'Percent Error'],loc='upper center', bbox_to_anchor=(0.5, -0.2),\n",
        "          fancybox=True, shadow=True, ncol=5)\n",
        "#To show the plot finally we have used plt.show()."
      ],
      "execution_count": 0,
      "outputs": [
        {
          "output_type": "execute_result",
          "data": {
            "text/plain": [
              "<matplotlib.legend.Legend at 0x7f3f5f68e908>"
            ]
          },
          "metadata": {
            "tags": []
          },
          "execution_count": 74
        },
        {
          "output_type": "display_data",
          "data": {
            "image/png": "[encoded data removed]",
            "text/plain": [
              "<Figure size 432x288 with 2 Axes>"
            ]
          },
          "metadata": {
            "tags": []
          }
        }
      ]
    },
    {
      "cell_type": "code",
      "metadata": {
        "id": "WOSn8RGGB-bs",
        "colab_type": "code",
        "colab": {}
      },
      "source": [
        ""
      ],
      "execution_count": 0,
      "outputs": []
    },
    {
      "cell_type": "markdown",
      "metadata": {
        "id": "8eW959X2E0pC",
        "colab_type": "text"
      },
      "source": [
        "#Google Map Image of the Quezon City Circle Fountain and Area Calculation"
      ]
    },
    {
      "cell_type": "code",
      "metadata": {
        "id": "AqUgF-OoS68n",
        "colab_type": "code",
        "colab": {}
      },
      "source": [
        "def area_calculation(image):\n",
        "  edges = cv2.Canny(image,255,255)\n",
        "  indices = np.where(edges != [0])\n",
        "  coordinates = list(zip(indices[0], indices[1]))\n",
        "  coords = list(coordinates)\n",
        "  x = [p[0] for p in coords]\n",
        "  y = [p[1] for p in coords]\n",
        "  centroid = (sum(x) / len(coords), sum(y) / len(coords))\n",
        "  polar = []\n",
        "  for i in coordinates:\n",
        "    x, y = i[0], i[1]\n",
        "    r = np.sqrt(((x-centroid[0])**2)+((y-centroid[1])**2))\n",
        "    theta = np.arctan2(y-centroid[1], x-centroid[0])\n",
        "    polar.append((theta,(x,y)))\n",
        "  sorted_polar = sorted(polar, key = lambda x: x[0])\n",
        "  coord = []\n",
        "  for j in sorted_polar:\n",
        "    coord.append(j[1])\n",
        "  \n",
        "  area = 0\n",
        "  for i in range(len(coord)-1):\n",
        "    A = ((coord[i][0]*coord[i+1][1]) - (coord[i][1]*coord[i+1][0]))\n",
        "    area += A\n",
        "    \n",
        "  return area/2"
      ],
      "execution_count": 0,
      "outputs": []
    },
    {
      "cell_type": "code",
      "metadata": {
        "id": "DzuFjzKFE2sr",
        "colab_type": "code",
        "outputId": "a1cd512d-72f1-4aa1-f401-35bc54509b16",
        "colab": {
          "base_uri": "https://localhost:8080/",
          "height": 439
        }
      },
      "source": [
        "Qcircle = cv2.imread('QCircle.png')\n",
        "Qcircle_delinearized = cv2.imread(\"QCircle_delinearize.png\")\n",
        "edges = cv2.Canny(Qcircle_delinearized,255,255)\n",
        "\n",
        "fig = plt.figure(figsize=(20,12))\n",
        "ax1_atrium = fig.add_subplot(1,3,1)\n",
        "ax1_atrium.imshow(Qcircle)\n",
        "ax1_atrium.set_title('Quezon City Circle(Google Maps)')\n",
        "ax1_atrium.axis('off')\n",
        "ax2_atrium = fig.add_subplot(1,3,2)\n",
        "ax2_atrium.imshow(Qcircle_delinearized)\n",
        "ax2_atrium.set_title('Quezon City Circle delinearized')\n",
        "ax2_atrium.axis('off')\n",
        "ax3_atrium = fig.add_subplot(1,3,3)\n",
        "ax3_atrium.imshow(edges, plt.get_cmap('binary_r'))\n",
        "ax3_atrium.set_title('Quezon City Circle edges')\n",
        "ax3_atrium.axis('off')\n",
        "\n",
        "theo = np.pi*(84.777/2)**2\n",
        "act = area_calculation(Qcircle_delinearized)/(5.1**2)\n",
        "print('The theoretical area of the CS atrium is', theo, 'm^2.')\n",
        "print(\"The area of the CS atrium calculated using Green's Theorem is\", act, \"m^2.\")\n",
        "print('The percent error of the calculation is', ((act-theo)/theo)*100,'%.')"
      ],
      "execution_count": 0,
      "outputs": [
        {
          "output_type": "stream",
          "text": [
            "The theoretical area of the CS atrium is 5644.766343237435 m^2.\n",
            "The area of the CS atrium calculated using Green's Theorem is 5544.0215301807 m^2.\n",
            "The percent error of the calculation is -1.784747267305922 %.\n"
          ],
          "name": "stdout"
        },
        {
          "output_type": "display_data",
          "data": {
            "image/png": "[encoded data removed]",
            "text/plain": [
              "<Figure size 1440x864 with 3 Axes>"
            ]
          },
          "metadata": {
            "tags": []
          }
        }
      ]
    },
    {
      "cell_type": "code",
      "metadata": {
        "id": "wZOw6NwDO8OV",
        "colab_type": "code",
        "colab": {}
      },
      "source": [
        ""
      ],
      "execution_count": 0,
      "outputs": []
    }
  ]
}