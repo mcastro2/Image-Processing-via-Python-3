{
  "nbformat": 4,
  "nbformat_minor": 0,
  "metadata": {
    "colab": {
      "name": "AP186-Act11.ipynb",
      "provenance": [],
      "toc_visible": true
    },
    "kernelspec": {
      "name": "python3",
      "display_name": "Python 3"
    }
  },
  "cells": [
    {
      "cell_type": "code",
      "metadata": {
        "id": "w4UlWHLk3HhU",
        "colab_type": "code",
        "outputId": "e76ad61c-2f3b-4c74-d3d4-c5398b761e25",
        "colab": {
          "base_uri": "https://localhost:8080/",
          "height": 129
        }
      },
      "source": [
        "from google.colab import drive\n",
        "drive.mount('/content/drive')\n"
      ],
      "execution_count": 0,
      "outputs": [
        {
          "output_type": "stream",
          "text": [
            "Go to this URL in a browser: https://accounts.google.com/o/oauth2/auth?client_id=947318989803-6bn6qk8qdgf4n4g3pfee6491hc0brc4i.apps.googleusercontent.com&redirect_uri=urn%3Aietf%3Awg%3Aoauth%3A2.0%3Aoob&scope=email%20https%3A%2F%2Fwww.googleapis.com%2Fauth%2Fdocs.test%20https%3A%2F%2Fwww.googleapis.com%2Fauth%2Fdrive%20https%3A%2F%2Fwww.googleapis.com%2Fauth%2Fdrive.photos.readonly%20https%3A%2F%2Fwww.googleapis.com%2Fauth%2Fpeopleapi.readonly&response_type=code\n",
            "\n",
            "Enter your authorization code:\n",
            "··········\n",
            "Mounted at /content/drive\n"
          ],
          "name": "stdout"
        }
      ]
    },
    {
      "cell_type": "code",
      "metadata": {
        "id": "05-E3aN5st0u",
        "colab_type": "code",
        "colab": {}
      },
      "source": [
        "from skimage import color\n",
        "from skimage import io\n",
        "import skimage as s\n",
        "import skimage.measure as sm \n",
        "import numpy as np\n",
        "from matplotlib import pyplot as plt\n",
        "from PIL import Image\n",
        "import cv2\n",
        "import scipy\n",
        "from scipy import ndimage\n",
        "import scipy.misc as scm\n",
        "import glob\n",
        "from google.colab.patches import cv2_imshow"
      ],
      "execution_count": 0,
      "outputs": []
    },
    {
      "cell_type": "code",
      "metadata": {
        "id": "0Co3kZlc6XrP",
        "colab_type": "code",
        "colab": {}
      },
      "source": [
        "def probability(obj,patch):\n",
        "  mean = np.mean(patch)\n",
        "  stdev = np.std(patch)\n",
        "  p = (1/(stdev*np.sqrt(2*np.pi))*np.exp(-((obj-mean)**2)/(2*(stdev**2))))\n",
        "  return p"
      ],
      "execution_count": 0,
      "outputs": []
    },
    {
      "cell_type": "code",
      "metadata": {
        "id": "TRRCWaVl3vZE",
        "colab_type": "code",
        "outputId": "8a2f9346-f3ea-4ca1-c961-e22c62ba3a64",
        "colab": {
          "base_uri": "https://localhost:8080/",
          "height": 237
        }
      },
      "source": [
        "path = \"/content/drive/My Drive/186/Activity 11/RAW/*.jpg\"\n",
        "savepath = \"/content/drive/My Drive/186/Activity 11/PROCESSED/\"\n",
        "\n",
        "#INITIAL IMAGE TO SET ROI SHADE AND COLOR\"\n",
        "#img = io.imread('00016.jpg')\n",
        "img = io.imread('03.jpg')\n",
        "image = s.img_as_float(img)\n",
        "image = np.double(image)\n",
        "image = image[85:1170,130:210]\n",
        "#cropped = image[27:60,130:165]\n",
        "cropped = image[30:70,30:50]\n",
        "cropped_imgR = cropped[:,:,0]\n",
        "cropped_imgG = cropped[:,:,1]\n",
        "cropped_imgB = cropped[:,:,2]\n",
        "\n",
        "\n",
        "#Loop for all images\"\n",
        "for file in glob.glob(path):\n",
        "  #print(file)\n",
        "  filename = file[-6:]\n",
        "  print(filename)\n",
        "  img = io.imread(file)\n",
        "  image = s.img_as_float(img)\n",
        "  image = np.double(image)\n",
        "  image = image[85:1170,130:210]\n",
        "\n",
        "  image_R = image[:,:,0]\n",
        "  image_G = image[:,:,1]\n",
        "  image_B = image[:,:,2]\n",
        "\n",
        "  I_patch = cropped_imgR + cropped_imgG + cropped_imgB\n",
        "  I_obj = image_R + image_G + image_B\n",
        "\n",
        "  I_patch[I_patch==0] = 100000\n",
        "  I_obj[I_obj==0] = 100000\n",
        "  \n",
        "  r_patch = cropped_imgR/I_patch \n",
        "  g_patch = cropped_imgG/I_patch\n",
        "  \n",
        "  r_obj = image_R/I_obj \n",
        "  g_obj = image_G/I_obj\n",
        "  \n",
        "  mean_r = np.mean(r_patch)\n",
        "  mean_g = np.mean(g_patch)\n",
        "  stdev_r = np.std(r_patch)\n",
        "  stdev_g = np.std(g_patch)\n",
        "  \n",
        "  joint_prob = probability(r_obj,r_patch)*probability(g_obj,g_patch)\n",
        "  cv2.imwrite(savepath+str(filename),joint_prob) "
      ],
      "execution_count": 0,
      "outputs": [
        {
          "output_type": "stream",
          "text": [
            "10.jpg\n",
            "11.jpg\n",
            "12.jpg\n",
            "01.jpg\n",
            "02.jpg\n",
            "03.jpg\n",
            "04.jpg\n",
            "05.jpg\n",
            "06.jpg\n",
            "07.jpg\n",
            "08.jpg\n",
            "09.jpg\n"
          ],
          "name": "stdout"
        }
      ]
    },
    {
      "cell_type": "markdown",
      "metadata": {
        "id": "gYXPfyOFYKpA",
        "colab_type": "text"
      },
      "source": [
        "#SEGMENTATION TEST"
      ]
    },
    {
      "cell_type": "code",
      "metadata": {
        "id": "bHruz3mo0ZBu",
        "colab_type": "code",
        "outputId": "e84e99d3-c8e1-4d55-9aa0-be36aed1fa23",
        "colab": {
          "base_uri": "https://localhost:8080/",
          "height": 747
        }
      },
      "source": [
        "img = cv2.imread('03.jpg')\n",
        "image = s.img_as_float(img)\n",
        "image = np.double(image)\n",
        "image = image[85:1170,130:210]\n",
        "plt.figure(figsize = [20,10])\n",
        "io.imshow(image)\n",
        "#plt.axis('off')"
      ],
      "execution_count": 0,
      "outputs": [
        {
          "output_type": "execute_result",
          "data": {
            "text/plain": [
              "<matplotlib.image.AxesImage at 0x7fd07b378550>"
            ]
          },
          "metadata": {
            "tags": []
          },
          "execution_count": 39
        },
        {
          "output_type": "display_data",
          "data": {
            "image/png": "[encoded data removed]",
            "text/plain": [
              "<Figure size 1440x720 with 1 Axes>"
            ]
          },
          "metadata": {
            "tags": []
          }
        }
      ]
    },
    {
      "cell_type": "code",
      "metadata": {
        "id": "JZElEehdFG3k",
        "colab_type": "code",
        "outputId": "8373f16e-5bff-4476-8ef9-8d283e4fda27",
        "colab": {
          "base_uri": "https://localhost:8080/",
          "height": 35
        }
      },
      "source": [
        "np.shape(image)"
      ],
      "execution_count": 0,
      "outputs": [
        {
          "output_type": "execute_result",
          "data": {
            "text/plain": [
              "(1085, 80, 3)"
            ]
          },
          "metadata": {
            "tags": []
          },
          "execution_count": 41
        }
      ]
    },
    {
      "cell_type": "code",
      "metadata": {
        "id": "hhMDa16B1dnj",
        "colab_type": "code",
        "outputId": "4a4c3528-9ad0-4e95-b7d1-978dca7a8869",
        "colab": {
          "base_uri": "https://localhost:8080/",
          "height": 747
        }
      },
      "source": [
        "#16 cropped = image[20:65,125:179]\n",
        "#18\n",
        "cropped = image[30:70,30:50]\n",
        "plt.figure(figsize = [20,10])\n",
        "io.imshow(cropped)"
      ],
      "execution_count": 0,
      "outputs": [
        {
          "output_type": "execute_result",
          "data": {
            "text/plain": [
              "<matplotlib.image.AxesImage at 0x7fd07cca6a58>"
            ]
          },
          "metadata": {
            "tags": []
          },
          "execution_count": 15
        },
        {
          "output_type": "display_data",
          "data": {
            "image/png": "[encoded data removed]",
            "text/plain": [
              "<Figure size 1440x720 with 1 Axes>"
            ]
          },
          "metadata": {
            "tags": []
          }
        }
      ]
    },
    {
      "cell_type": "code",
      "metadata": {
        "id": "eAddGFHZ0r_X",
        "colab_type": "code",
        "colab": {}
      },
      "source": [
        ""
      ],
      "execution_count": 0,
      "outputs": []
    },
    {
      "cell_type": "markdown",
      "metadata": {
        "id": "Cyw8Xb1rYHn8",
        "colab_type": "text"
      },
      "source": [
        "#MORPH"
      ]
    },
    {
      "cell_type": "code",
      "metadata": {
        "id": "MuHkBeZG2HWx",
        "colab_type": "code",
        "colab": {}
      },
      "source": [
        "newpath = \"/content/drive/My Drive/186/Activity 11/PROCESSED/*.jpg\"\n",
        "newsavepath = \"/content/drive/My Drive/186/Activity 11/MORPH/\"\n",
        "for newfile in glob.glob(newpath):\n",
        "  A = cv2.imread(newfile)\n",
        "  newfilename = newfile[-6:]\n",
        "  A2 = cv2.cvtColor(A, cv2.COLOR_BGR2GRAY)\n",
        "  ret,thresh1 = cv2.threshold(A,19,255,cv2.THRESH_BINARY)\n",
        "  \n",
        "  # Copy the thresholded image.\n",
        "  im_floodfill = thresh1.copy()\n",
        "  \n",
        "  # Mask used to flood filling.\n",
        "  # Notice the size needs to be 2 pixels than the image.\n",
        "  h, w = thresh1.shape[:2]\n",
        "  mask = np.zeros((h+2, w+2), np.uint8)  \n",
        "  \n",
        "  # Floodfill from point (0, 0)\n",
        "  cv2.floodFill(im_floodfill, mask, (0,0), 255);\n",
        "  \n",
        "  # Invert floodfilled image\n",
        "  im_floodfill_inv = cv2.bitwise_not(im_floodfill)\n",
        "  \n",
        "  # Combine the two images to get the foreground.\n",
        "  im_out = thresh1 | im_floodfill_inv\n",
        "  \n",
        "  im_out = cv2.cvtColor(im_out, cv2.COLOR_BGR2GRAY)\n",
        "  ret2,thresh2 = cv2.threshold(im_out,254,255,cv2.THRESH_BINARY)\n",
        "  \n",
        "  kernel = cv2.getStructuringElement(cv2.MORPH_ELLIPSE,(10,10))\n",
        "  opening = cv2.morphologyEx(thresh2, cv2.MORPH_OPEN, kernel)\n",
        "  cv2.imwrite(newsavepath+str(newfilename),opening)   "
      ],
      "execution_count": 0,
      "outputs": []
    },
    {
      "cell_type": "markdown",
      "metadata": {
        "id": "afaig_OTYQMT",
        "colab_type": "text"
      },
      "source": [
        "#MORPH TEST"
      ]
    },
    {
      "cell_type": "code",
      "metadata": {
        "id": "L0taFs_1SnTO",
        "colab_type": "code",
        "outputId": "2b7e3d42-923c-4939-aa01-ab5de6c03018",
        "colab": {
          "base_uri": "https://localhost:8080/",
          "height": 1000
        }
      },
      "source": [
        "A = cv2.imread(\"/content/drive/My Drive/186/Activity 11/PROCESSED/09.jpg\")\n",
        "plt.figure(figsize = [20,10])\n",
        "#plt.imshow(A)\n",
        "A2 = cv2.cvtColor(A, cv2.COLOR_BGR2GRAY)\n",
        "#plt.imshow(A2)\n",
        "ret,thresh1 = cv2.threshold(A,19,255,cv2.THRESH_BINARY)\n",
        "#cv2_imshow(thresh1)\n",
        "\n",
        "# Copy the thresholded image.\n",
        "im_floodfill = thresh1.copy()\n",
        " \n",
        "# Mask used to flood filling.\n",
        "# Notice the size needs to be 2 pixels than the image.\n",
        "h, w = thresh1.shape[:2]\n",
        "mask = np.zeros((h+2, w+2), np.uint8)\n",
        "\n",
        "# Floodfill from point (0, 0)\n",
        "cv2.floodFill(im_floodfill, mask, (0,0), 255);\n",
        " \n",
        "# Invert floodfilled image\n",
        "im_floodfill_inv = cv2.bitwise_not(im_floodfill)\n",
        " \n",
        "# Combine the two images to get the foreground.\n",
        "im_out = thresh1 | im_floodfill_inv\n",
        "\n",
        "im_out = cv2.cvtColor(im_out, cv2.COLOR_BGR2GRAY)\n",
        "ret2,thresh2 = cv2.threshold(im_out,254,255,cv2.THRESH_BINARY)\n",
        "#cv2_imshow(thresh2)\n",
        "kernel = cv2.getStructuringElement(cv2.MORPH_ELLIPSE,(10,10))\n",
        "opening = cv2.morphologyEx(thresh2, cv2.MORPH_OPEN, kernel)\n",
        "#erode\n",
        "cv2_imshow(opening)"
      ],
      "execution_count": 0,
      "outputs": [
        {
          "output_type": "display_data",
          "data": {
            "image/png": "[encoded data removed]",
            "text/plain": [
              "<PIL.Image.Image image mode=L size=80x1085 at 0x7FD07B466940>"
            ]
          },
          "metadata": {
            "tags": []
          }
        },
        {
          "output_type": "display_data",
          "data": {
            "text/plain": [
              "<Figure size 1440x720 with 0 Axes>"
            ]
          },
          "metadata": {
            "tags": []
          }
        }
      ]
    },
    {
      "cell_type": "markdown",
      "metadata": {
        "id": "nvOMURHhc-Io",
        "colab_type": "text"
      },
      "source": [
        "# Blob ANALYSIS TEST"
      ]
    },
    {
      "cell_type": "code",
      "metadata": {
        "colab_type": "code",
        "id": "UKMR9Tk4lCPB",
        "colab": {}
      },
      "source": [
        "# Setup SimpleBlobDetector parameters.\n",
        "params = cv2.SimpleBlobDetector_Params()\n",
        "\n",
        "# Filter by Color\n",
        "params.filterByColor = False\n",
        "params.blobColor = 255\n",
        " \n",
        "# Filter by Area.\n",
        "params.filterByArea = False\n",
        "params.minArea = 15\n",
        "params.maxArea = 250\n",
        " \n",
        "# Filter by Circularity\n",
        "params.filterByCircularity = True\n",
        "params.minCircularity = 0\n",
        " \n",
        "# Filter by Convexity\n",
        "params.filterByConvexity = False\n",
        "params.minConvexity = 0\n",
        " \n",
        "# Filter by Inertia\n",
        "params.filterByInertia = False\n",
        "params.minInertiaRatio = 0"
      ],
      "execution_count": 0,
      "outputs": []
    },
    {
      "cell_type": "code",
      "metadata": {
        "id": "cHm2DJlPkoD7",
        "colab_type": "code",
        "outputId": "f567b204-b6f7-40ca-9d7b-f33aedfa8183",
        "colab": {
          "base_uri": "https://localhost:8080/",
          "height": 1000
        }
      },
      "source": [
        "detector = cv2.SimpleBlobDetector_create(params)\n",
        "keypoints = detector.detect(opening)\n",
        "im_with_keypoints = cv2.drawKeypoints(opening, keypoints, np.array([]), (0,0,255), cv2.DRAW_MATCHES_FLAGS_DRAW_RICH_KEYPOINTS)\n",
        "#cv2_imshow(opening)\n",
        "cv2_imshow(im_with_keypoints)"
      ],
      "execution_count": 0,
      "outputs": [
        {
          "output_type": "display_data",
          "data": {
            "image/png": "[encoded data removed]",
            "text/plain": [
              "<PIL.Image.Image image mode=RGB size=80x1085 at 0x7FD07B476AC8>"
            ]
          },
          "metadata": {
            "tags": []
          }
        }
      ]
    },
    {
      "cell_type": "code",
      "metadata": {
        "id": "cA73Z_t1kvnE",
        "colab_type": "code",
        "colab": {}
      },
      "source": [
        "label, N = sm.label(opening, background=0, return_num=True)\n",
        "reg = sm.regionprops(label,opening)\n",
        "centroid = []\n",
        "for i in range(N):\n",
        "  centroid.append(reg[i].centroid)"
      ],
      "execution_count": 0,
      "outputs": []
    },
    {
      "cell_type": "code",
      "metadata": {
        "id": "7hMf0QqLmdUS",
        "colab_type": "code",
        "outputId": "3699132f-2bf7-417d-bf78-06724ac8bb0e",
        "colab": {
          "base_uri": "https://localhost:8080/",
          "height": 34
        }
      },
      "source": [
        "list(centroid)[0][0] #y,x"
      ],
      "execution_count": 0,
      "outputs": [
        {
          "output_type": "execute_result",
          "data": {
            "text/plain": [
              "87.49017341040462"
            ]
          },
          "metadata": {
            "tags": []
          },
          "execution_count": 59
        }
      ]
    },
    {
      "cell_type": "code",
      "metadata": {
        "id": "0b3iqRyyml2G",
        "colab_type": "code",
        "colab": {}
      },
      "source": [
        ""
      ],
      "execution_count": 0,
      "outputs": []
    },
    {
      "cell_type": "markdown",
      "metadata": {
        "id": "U96y9Cbgm3SG",
        "colab_type": "text"
      },
      "source": [
        "#Blob Analysis"
      ]
    },
    {
      "cell_type": "code",
      "metadata": {
        "id": "VyFWTdBvm4_v",
        "colab_type": "code",
        "outputId": "f1470023-38e2-4752-a62c-d4dedabfd227",
        "colab": {
          "base_uri": "https://localhost:8080/",
          "height": 237
        }
      },
      "source": [
        "imgpath = \"/content/drive/My Drive/186/Activity 11/MORPH/*.jpg\"\n",
        "centroids = []\n",
        "reference_file = []\n",
        "ypos = []\n",
        "for imgfile in glob.glob(imgpath):\n",
        "  A = cv2.imread(imgfile)\n",
        "  A = cv2.cvtColor(A, cv2.COLOR_BGR2GRAY)\n",
        "  ret,A2 = cv2.threshold(A,20,255,cv2.THRESH_BINARY)\n",
        "  imgfilename = imgfile[-6:]\n",
        "   # Setup SimpleBlobDetector parameters.\n",
        "  params = cv2.SimpleBlobDetector_Params()\n",
        "\n",
        "  # Filter by Circularity\n",
        "  params.filterByCircularity = True\n",
        "  params.minCircularity = 0\n",
        "  \n",
        "  detector = cv2.SimpleBlobDetector_create(params)\n",
        "  keypoints = detector.detect(A2)\n",
        "  im_with_keypoints = cv2.drawKeypoints(A2, keypoints, np.array([]), (0,0,255), cv2.DRAW_MATCHES_FLAGS_DRAW_RICH_KEYPOINTS)\n",
        "  #cv2_imshow(opening)\n",
        "  #cv2_imshow(im_with_keypoints)\n",
        "  \n",
        "  label, N = sm.label(A2, background=0, return_num=True)\n",
        "  reg = sm.regionprops(label,A2)\n",
        "  if N == 0:\n",
        "    print(imgfilename, 'has no labels.')\n",
        "    \n",
        "  imgcent = []\n",
        "  if N != 0:\n",
        "    reference_file.append(imgfilename)\n",
        "    #print(imgfilename, 'has at least',N,'labels.')\n",
        "    for i in range(N):\n",
        "      imgcent.append(reg[i].centroid)\n",
        "    centroids.append(imgcent) \n",
        "    ys = list(imgcent)[0][0]\n",
        "    ypos.append(ys)\n",
        "\n",
        "    \n",
        "  #print(imgcent)\n",
        "    print('The ball at',imgfilename,'was located at an average y-axis coordinate',round(ys))"
      ],
      "execution_count": 0,
      "outputs": [
        {
          "output_type": "stream",
          "text": [
            "The ball at 06.jpg was located at an average y-axis coordinate 285.0\n",
            "01.jpg has no labels.\n",
            "The ball at 10.jpg was located at an average y-axis coordinate 816.0\n",
            "The ball at 02.jpg was located at an average y-axis coordinate 16.0\n",
            "The ball at 04.jpg was located at an average y-axis coordinate 119.0\n",
            "The ball at 05.jpg was located at an average y-axis coordinate 191.0\n",
            "The ball at 07.jpg was located at an average y-axis coordinate 399.0\n",
            "The ball at 08.jpg was located at an average y-axis coordinate 513.0\n",
            "The ball at 11.jpg was located at an average y-axis coordinate 1005.0\n",
            "The ball at 09.jpg was located at an average y-axis coordinate 662.0\n",
            "12.jpg has no labels.\n",
            "The ball at 03.jpg was located at an average y-axis coordinate 51.0\n"
          ],
          "name": "stdout"
        }
      ]
    },
    {
      "cell_type": "code",
      "metadata": {
        "id": "Qdt3qB_Jre54",
        "colab_type": "code",
        "outputId": "847c9d5c-ef00-45d4-b990-bf68fdab6338",
        "colab": {
          "base_uri": "https://localhost:8080/",
          "height": 72
        }
      },
      "source": [
        "ypos = np.sort(ypos)\n",
        "ypos"
      ],
      "execution_count": 0,
      "outputs": [
        {
          "output_type": "execute_result",
          "data": {
            "text/plain": [
              "array([  15.68817204,   51.09561231,  119.11048557,  190.82242991,\n",
              "        285.36774194,  398.6981383 ,  513.35119048,  661.74410995,\n",
              "        815.63214838, 1004.65633075])"
            ]
          },
          "metadata": {
            "tags": []
          },
          "execution_count": 31
        }
      ]
    },
    {
      "cell_type": "code",
      "metadata": {
        "id": "Fz4BB9xoBRjK",
        "colab_type": "code",
        "outputId": "853a1b9d-cb39-4af9-b170-a0700f200c64",
        "colab": {
          "base_uri": "https://localhost:8080/",
          "height": 301
        }
      },
      "source": [
        "delta_t = 1/25\n",
        "time = np.arange(0,10/25,delta_t)\n",
        "pix_2_dist = .9/1085\n",
        "scaled = ypos*pix_2_dist\n",
        "plt.scatter(time,scaled)\n",
        "plt.plot(time,scaled)\n",
        "plt.xlabel(\"Time (s)\")\n",
        "plt.ylabel(\"Distance (m)\")"
      ],
      "execution_count": 0,
      "outputs": [
        {
          "output_type": "execute_result",
          "data": {
            "text/plain": [
              "Text(0, 0.5, 'Distance (m)')"
            ]
          },
          "metadata": {
            "tags": []
          },
          "execution_count": 80
        },
        {
          "output_type": "display_data",
          "data": {
            "image/png": "[encoded data removed]",
            "text/plain": [
              "<Figure size 432x288 with 1 Axes>"
            ]
          },
          "metadata": {
            "tags": []
          }
        }
      ]
    },
    {
      "cell_type": "code",
      "metadata": {
        "id": "1WSG8Um3HDNY",
        "colab_type": "code",
        "outputId": "3693c3de-c5b8-4e6b-d5d5-cd808c633ff5",
        "colab": {
          "base_uri": "https://localhost:8080/",
          "height": 35
        }
      },
      "source": [
        "time"
      ],
      "execution_count": 0,
      "outputs": [
        {
          "output_type": "execute_result",
          "data": {
            "text/plain": [
              "array([0.  , 0.04, 0.08, 0.12, 0.16, 0.2 , 0.24, 0.28, 0.32, 0.36])"
            ]
          },
          "metadata": {
            "tags": []
          },
          "execution_count": 81
        }
      ]
    },
    {
      "cell_type": "code",
      "metadata": {
        "id": "fLRKLUwEDg0c",
        "colab_type": "code",
        "colab": {}
      },
      "source": [
        ""
      ],
      "execution_count": 0,
      "outputs": []
    },
    {
      "cell_type": "code",
      "metadata": {
        "id": "vCwxmfboEO63",
        "colab_type": "code",
        "colab": {}
      },
      "source": [
        "vel = []\n",
        "for i in range(len(scaled)-1):\n",
        "  delta_d = scaled[i+1] - scaled[i]\n",
        "  v = delta_d/delta_t\n",
        "  vel.append(v)"
      ],
      "execution_count": 0,
      "outputs": []
    },
    {
      "cell_type": "code",
      "metadata": {
        "id": "EXSkDwz1E9Jl",
        "colab_type": "code",
        "outputId": "2b46e287-7478-4efb-8fe3-d0f194c83d58",
        "colab": {
          "base_uri": "https://localhost:8080/",
          "height": 182
        }
      },
      "source": [
        "vel"
      ],
      "execution_count": 0,
      "outputs": [
        {
          "output_type": "execute_result",
          "data": {
            "text/plain": [
              "[0.734255673775125,\n",
              " 1.4104466805446012,\n",
              " 1.487114052988527,\n",
              " 1.9606170697245995,\n",
              " 2.350169509819115,\n",
              " 2.377597856232404,\n",
              " 3.0772725236015708,\n",
              " 3.1912266033763377,\n",
              " 3.91985631647479]"
            ]
          },
          "metadata": {
            "tags": []
          },
          "execution_count": 83
        }
      ]
    },
    {
      "cell_type": "code",
      "metadata": {
        "id": "T7a-TwL9E9zE",
        "colab_type": "code",
        "colab": {}
      },
      "source": [
        "accel = []\n",
        "for i in range(len(vel)-1):\n",
        "  delta_v = vel[i+1] - vel[i]\n",
        "  a = delta_v/delta_t\n",
        "  accel.append(a)"
      ],
      "execution_count": 0,
      "outputs": []
    },
    {
      "cell_type": "code",
      "metadata": {
        "id": "-GTBC0UNF5X0",
        "colab_type": "code",
        "outputId": "67beb94d-7e83-4ba7-a6db-fd9ae5814a66",
        "colab": {
          "base_uri": "https://localhost:8080/",
          "height": 164
        }
      },
      "source": [
        "accel"
      ],
      "execution_count": 0,
      "outputs": [
        {
          "output_type": "execute_result",
          "data": {
            "text/plain": [
              "[16.904775169236903,\n",
              " 1.9166843110981435,\n",
              " 11.837575418401814,\n",
              " 9.73881100236289,\n",
              " 0.6857086603322182,\n",
              " 17.491866684229173,\n",
              " 2.8488519943691726,\n",
              " 18.215742827461312]"
            ]
          },
          "metadata": {
            "tags": []
          },
          "execution_count": 85
        }
      ]
    },
    {
      "cell_type": "code",
      "metadata": {
        "id": "u5BJwEdZF6NS",
        "colab_type": "code",
        "outputId": "6d7ce9c6-bca8-4488-d599-e2ec928f8116",
        "colab": {
          "base_uri": "https://localhost:8080/",
          "height": 35
        }
      },
      "source": [
        "np.mean(accel)"
      ],
      "execution_count": 0,
      "outputs": [
        {
          "output_type": "execute_result",
          "data": {
            "text/plain": [
              "9.955002008436454"
            ]
          },
          "metadata": {
            "tags": []
          },
          "execution_count": 86
        }
      ]
    },
    {
      "cell_type": "code",
      "metadata": {
        "id": "IYmMTI-QF-Il",
        "colab_type": "code",
        "outputId": "640cad5b-0efc-4c2b-aaee-10f0dd3680da",
        "colab": {
          "base_uri": "https://localhost:8080/",
          "height": 35
        }
      },
      "source": [
        "np.std(accel)"
      ],
      "execution_count": 0,
      "outputs": [
        {
          "output_type": "execute_result",
          "data": {
            "text/plain": [
              "6.873554891765375"
            ]
          },
          "metadata": {
            "tags": []
          },
          "execution_count": 87
        }
      ]
    },
    {
      "cell_type": "code",
      "metadata": {
        "id": "wH8xKLMOGAWv",
        "colab_type": "code",
        "colab": {}
      },
      "source": [
        ""
      ],
      "execution_count": 0,
      "outputs": []
    }
  ]
}