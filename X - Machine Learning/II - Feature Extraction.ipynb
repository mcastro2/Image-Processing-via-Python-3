{
  "nbformat": 4,
  "nbformat_minor": 0,
  "metadata": {
    "colab": {
      "name": "Activity 12.ipynb",
      "provenance": [],
      "toc_visible": true
    },
    "kernelspec": {
      "name": "python3",
      "display_name": "Python 3"
    }
  },
  "cells": [
    {
      "cell_type": "code",
      "metadata": {
        "id": "EYNbe2kzptk6",
        "colab_type": "code",
        "colab": {}
      },
      "source": [
        "import numpy as np\n",
        "import skimage as sm\n",
        "import matplotlib.pyplot as plt\n",
        "import cv2\n",
        "from google.colab.patches import cv2_imshow"
      ],
      "execution_count": 0,
      "outputs": []
    },
    {
      "cell_type": "code",
      "metadata": {
        "id": "1vGAhE43umUT",
        "colab_type": "code",
        "colab": {}
      },
      "source": [
        "orange = cv2.imread(filename=\"orange.jpg\")\n",
        "apple = cv2.imread(filename=\"apple.jpg\")\n",
        "bnn = cv2.imread(filename=\"banana.jpg\")"
      ],
      "execution_count": 0,
      "outputs": []
    },
    {
      "cell_type": "code",
      "metadata": {
        "id": "oeQtqNDPurOW",
        "colab_type": "code",
        "colab": {}
      },
      "source": [
        "fruits = [\"apple\", \"orange\", \"banana\"]\n",
        "fruits_data = [apple, orange, bnn]"
      ],
      "execution_count": 0,
      "outputs": []
    },
    {
      "cell_type": "code",
      "metadata": {
        "id": "_83-3k6muvjY",
        "colab_type": "code",
        "colab": {}
      },
      "source": [
        "idx = 0\n",
        "for fruit in fruits_data:\n",
        "  gray = cv2.cvtColor(fruit, cv2.COLOR_BGR2GRAY)\n",
        "  th, threshed = cv2.threshold(gray, 240, 255, cv2.THRESH_BINARY_INV)\n",
        "  kernel = cv2.getStructuringElement(cv2.MORPH_ELLIPSE, (3,3))\n",
        "  morphed = cv2.morphologyEx(threshed, cv2.MORPH_CLOSE, kernel)\n",
        "  #cv2_imshow(morphed)\n",
        "  cnts = cv2.findContours(morphed, cv2.RETR_EXTERNAL, cv2.CHAIN_APPROX_SIMPLE)[-2]\n",
        "  cnt = sorted(cnts, key=cv2.contourArea)[-1]\n",
        "  x,y,w,h = cv2.boundingRect(cnt)\n",
        "  dst = fruit[y:y+h, x:x+w]\n",
        "  name = fruits[idx]\n",
        "  cv2.imwrite(name+\"-cropped.jpg\",dst)\n",
        "  idx+=1"
      ],
      "execution_count": 0,
      "outputs": []
    },
    {
      "cell_type": "code",
      "metadata": {
        "id": "-Ts4c_1huxPA",
        "colab_type": "code",
        "colab": {}
      },
      "source": [
        "orange_c = cv2.imread(filename=\"orange-cropped.jpg\")\n",
        "apple_c = cv2.imread(filename=\"apple-cropped.jpg\")\n",
        "bnn_c = cv2.imread(filename=\"banana-cropped.jpg\")"
      ],
      "execution_count": 0,
      "outputs": []
    },
    {
      "cell_type": "code",
      "metadata": {
        "id": "BPnoYeoCu69C",
        "colab_type": "code",
        "colab": {}
      },
      "source": [
        "orange_mean1 = np.mean(orange/256)\n",
        "apple_mean1 = np.mean(apple/256)\n",
        "bnn_mean1 = np.mean(bnn/256)\n",
        "orange_mean2 = np.mean(orange_c/256)\n",
        "apple_mean2 = np.mean(apple_c/256)\n",
        "bnn_mean2 = np.mean(bnn_c/256)"
      ],
      "execution_count": 0,
      "outputs": []
    },
    {
      "cell_type": "code",
      "metadata": {
        "id": "C8YfxMZIu8Zr",
        "colab_type": "code",
        "outputId": "ff1f19de-0f56-4207-fa7a-af04b6418444",
        "colab": {
          "base_uri": "https://localhost:8080/",
          "height": 54
        }
      },
      "source": [
        "print(\"Uncropped mean RGB Values:\",orange_mean1, apple_mean1,bnn_mean1)\n",
        "print(\"Cropped mean RGB Values:\",orange_mean2, apple_mean2,bnn_mean2)"
      ],
      "execution_count": 0,
      "outputs": [
        {
          "output_type": "stream",
          "text": [
            "Uncropped mean RGB Values: 0.8891104435750952 0.7164393777967185 0.9108639915854402\n",
            "Cropped mean RGB Values: 0.6745593403774112 0.6276784301633728 0.8148599006549276\n"
          ],
          "name": "stdout"
        }
      ]
    },
    {
      "cell_type": "markdown",
      "metadata": {
        "id": "4lS0_Lzou92o",
        "colab_type": "text"
      },
      "source": [
        "# Blob Detection"
      ]
    },
    {
      "cell_type": "code",
      "metadata": {
        "id": "VYlbniiVvA6-",
        "colab_type": "code",
        "colab": {}
      },
      "source": [
        "# Setup SimpleBlobDetector parameters.\n",
        "params = cv2.SimpleBlobDetector_Params()\n",
        " \n",
        "# Change thresholds\n",
        "params.minThreshold = 0;\n",
        "params.maxThreshold = 240;\n",
        " \n",
        "# Filter by Area.\n",
        "params.filterByArea = True\n",
        "params.minArea = 10000\n",
        "# Filter by Circularity\n",
        "params.filterByCircularity = False\n",
        "\n",
        " \n",
        "# Filter by Convexity\n",
        "params.filterByConvexity = False\n",
        "\n",
        "# Filter by Inertia\n",
        "params.filterByInertia = False\n"
      ],
      "execution_count": 0,
      "outputs": []
    },
    {
      "cell_type": "code",
      "metadata": {
        "id": "iQNTxKUzvDli",
        "colab_type": "code",
        "outputId": "4cca7c4a-bdb0-491f-c94b-907be756e957",
        "colab": {
          "base_uri": "https://localhost:8080/",
          "height": 257
        }
      },
      "source": [
        "fruits_c = [\"apple-cropped.jpg\", \"orange-cropped.jpg\", \"banana-cropped.jpg\"]\n",
        "fruits_cropped = [apple_c, orange_c, bnn_c]\n",
        "for fruit in fruits_c:\n",
        "  im = cv2.imread(fruit, cv2.IMREAD_GRAYSCALE)\n",
        "  ret,thresh = cv2.threshold(im,240,255,cv2.THRESH_BINARY_INV)\n",
        "  kernel = cv2.getStructuringElement(cv2.MORPH_ELLIPSE, (4,4))\n",
        "  thresh = cv2.morphologyEx(thresh, cv2.MORPH_CLOSE, kernel)\n",
        "  # Set up the detector with default parameters.\n",
        "  detector = cv2.SimpleBlobDetector_create(params)\n",
        "  # Detect blobs.\n",
        "  keypoints = detector.detect(thresh)\n",
        "  label, N = sm.measure.label(thresh, background=0, return_num=True)\n",
        "  reg = sm.measure.regionprops(label,thresh)\n",
        "  print(N)\n",
        "  area = reg[0].area\n",
        "  #print(area)\n",
        "  conv_area = reg[0].convex_area\n",
        "  perimeter = reg[0].perimeter\n",
        "  inertia_a = reg[0].inertia_tensor_eigvals[0]\n",
        "  inertia_b = reg[0].inertia_tensor_eigvals[1]\n",
        "  convexity = area / conv_area\n",
        "  circularity = (4* np.pi * area) / (perimeter**2)\n",
        "  inertia = inertia_b/inertia_a\n",
        "  print(convexity,circularity,inertia)"
      ],
      "execution_count": 0,
      "outputs": [
        {
          "output_type": "stream",
          "text": [
            "1\n",
            "0.9852368679147416 0.8255264501896089 0.9072711371760853\n",
            "1\n",
            "0.9350518433179723 0.6841935757303954 0.745505492773831\n",
            "1\n",
            "0.5804595644159702 0.2771780580295129 0.15613543041649006\n"
          ],
          "name": "stdout"
        },
        {
          "output_type": "stream",
          "text": [
            "/usr/local/lib/python3.6/dist-packages/skimage/measure/_regionprops.py:250: UserWarning: regionprops and image moments (including moments, normalized moments, central moments, and inertia tensor) of 2D images will change from xy coordinates to rc coordinates in version 0.16.\n",
            "See https://scikit-image.org/docs/0.14.x/release_notes_and_installation.html#deprecations for details on how to avoid this message.\n",
            "  warn(XY_TO_RC_DEPRECATION_MESSAGE)\n",
            "/usr/local/lib/python3.6/dist-packages/skimage/measure/_regionprops.py:260: UserWarning: regionprops and image moments (including moments, normalized moments, central moments, and inertia tensor) of 2D images will change from xy coordinates to rc coordinates in version 0.16.\n",
            "See https://scikit-image.org/docs/0.14.x/release_notes_and_installation.html#deprecations for details on how to avoid this message.\n",
            "  warn(XY_TO_RC_DEPRECATION_MESSAGE)\n"
          ],
          "name": "stderr"
        }
      ]
    },
    {
      "cell_type": "code",
      "metadata": {
        "id": "_SIfSkV6wQe_",
        "colab_type": "code",
        "colab": {}
      },
      "source": [
        ""
      ],
      "execution_count": 0,
      "outputs": []
    }
  ]
}