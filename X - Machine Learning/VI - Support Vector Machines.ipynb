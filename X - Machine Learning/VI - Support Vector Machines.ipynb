{
  "nbformat": 4,
  "nbformat_minor": 0,
  "metadata": {
    "kernelspec": {
      "display_name": "Python 3",
      "language": "python",
      "name": "python3"
    },
    "language_info": {
      "codemirror_mode": {
        "name": "ipython",
        "version": 3
      },
      "file_extension": ".py",
      "mimetype": "text/x-python",
      "name": "python",
      "nbconvert_exporter": "python",
      "pygments_lexer": "ipython3",
      "version": "3.7.3"
    },
    "colab": {
      "name": "AC16- Support Vector Machines.ipynb",
      "provenance": [],
      "collapsed_sections": []
    }
  },
  "cells": [
    {
      "cell_type": "code",
      "metadata": {
        "id": "-9gVDJCo0h0d",
        "colab_type": "code",
        "outputId": "3d390a59-b5e6-4430-802b-ac0d8cf333e1",
        "colab": {
          "base_uri": "https://localhost:8080/",
          "height": 495
        }
      },
      "source": [
        "!pip install extcolors\n",
        "!pip install qpsolvers"
      ],
      "execution_count": 0,
      "outputs": [
        {
          "output_type": "stream",
          "text": [
            "Collecting extcolors\n",
            "  Downloading https://files.pythonhosted.org/packages/77/71/0c22724d39a8f7998396b393fc28d17c49c431f7057566ebd77fc2405dd9/extcolors-0.1.3.tar.gz\n",
            "Requirement already satisfied: Pillow in /usr/local/lib/python3.6/dist-packages (from extcolors) (4.3.0)\n",
            "Requirement already satisfied: olefile in /usr/local/lib/python3.6/dist-packages (from Pillow->extcolors) (0.46)\n",
            "Building wheels for collected packages: extcolors\n",
            "  Building wheel for extcolors (setup.py) ... \u001b[?25l\u001b[?25hdone\n",
            "  Created wheel for extcolors: filename=extcolors-0.1.3-cp36-none-any.whl size=6554 sha256=2581ce009385987b5aa107b757e2e712feb4ad16425ea17e7c18e8153f94367a\n",
            "  Stored in directory: /root/.cache/pip/wheels/58/be/b4/7b0b1ca9b50115f79ae9ff23b1aab2f7acbcc8b484b629c597\n",
            "Successfully built extcolors\n",
            "Installing collected packages: extcolors\n",
            "Successfully installed extcolors-0.1.3\n",
            "Collecting qpsolvers\n",
            "  Downloading https://files.pythonhosted.org/packages/bd/d8/a5ea1d7dade38657a9e9afd9779ce5814bd483d8c246032261daff73c949/qpsolvers-1.0.7.tar.gz\n",
            "Collecting quadprog\n",
            "  Downloading https://files.pythonhosted.org/packages/5a/f0/d4c8866f5d14dfa1a441439f5ce0d2680844651772129c431e78caadfe10/quadprog-0.1.7.tar.gz\n",
            "Requirement already satisfied: Cython in /usr/local/lib/python3.6/dist-packages (from quadprog->qpsolvers) (0.29.14)\n",
            "Building wheels for collected packages: qpsolvers, quadprog\n",
            "  Building wheel for qpsolvers (setup.py) ... \u001b[?25l\u001b[?25hdone\n",
            "  Created wheel for qpsolvers: filename=qpsolvers-1.0.7-cp36-none-any.whl size=14898 sha256=c33490cfb0fd3b1d4e4ca766796383725a08444d3e32ae2ef449f9b708fca512\n",
            "  Stored in directory: /root/.cache/pip/wheels/cf/40/79/a40042e87a3f80b4c07d5e2177ab35883af23f55ded1498934\n",
            "  Building wheel for quadprog (setup.py) ... \u001b[?25l\u001b[?25hdone\n",
            "  Created wheel for quadprog: filename=quadprog-0.1.7-cp36-cp36m-linux_x86_64.whl size=307305 sha256=c2fb01f46dbb1184512f0efac64f68ec9075b719b143bb6b32ce37359b7dc7e5\n",
            "  Stored in directory: /root/.cache/pip/wheels/36/dd/b1/849989444c0a5930927b260663019b7da6cff864fc224c2747\n",
            "Successfully built qpsolvers quadprog\n",
            "Installing collected packages: quadprog, qpsolvers\n",
            "Successfully installed qpsolvers-1.0.7 quadprog-0.1.7\n"
          ],
          "name": "stdout"
        }
      ]
    },
    {
      "cell_type": "code",
      "metadata": {
        "id": "h7fHVRjueT0v",
        "colab_type": "code",
        "colab": {}
      },
      "source": [
        "import os, glob\n",
        "import numpy as np\n",
        "import numpy.linalg as la\n",
        "import numpy.random as rand\n",
        "import scipy.stats as stats\n",
        "import cv2 as cv\n",
        "from matplotlib import pyplot as plt\n",
        "from mpl_toolkits.mplot3d import Axes3D\n",
        "import cvxpy as cvx\n",
        "from sklearn import model_selection as slms, preprocessing as spre\n",
        "from skimage import measure as meas, feature as feat\n",
        "from tqdm import tnrange, tqdm_notebook as tqdm\n",
        "import numpy as np\n",
        "import skimage as sm\n",
        "import matplotlib.pyplot as plt\n",
        "import cv2\n",
        "from PIL import Image\n",
        "from skimage import io\n",
        "import pandas as pd\n",
        "import extcolors\n",
        "import random\n",
        "import sklearn.svm as svm\n",
        "import cvxopt\n",
        "import qpsolvers as qp"
      ],
      "execution_count": 0,
      "outputs": []
    },
    {
      "cell_type": "code",
      "metadata": {
        "id": "K4k89xKdfZ6l",
        "colab_type": "code",
        "outputId": "8b8f7796-4c7e-4084-a433-9051a4928e78",
        "colab": {
          "base_uri": "https://localhost:8080/",
          "height": 129
        }
      },
      "source": [
        "from google.colab import drive\n",
        "drive.mount('/content/drive')"
      ],
      "execution_count": 0,
      "outputs": [
        {
          "output_type": "stream",
          "text": [
            "Go to this URL in a browser: https://accounts.google.com/o/oauth2/auth?client_id=947318989803-6bn6qk8qdgf4n4g3pfee6491hc0brc4i.apps.googleusercontent.com&redirect_uri=urn%3aietf%3awg%3aoauth%3a2.0%3aoob&response_type=code&scope=email%20https%3a%2f%2fwww.googleapis.com%2fauth%2fdocs.test%20https%3a%2f%2fwww.googleapis.com%2fauth%2fdrive%20https%3a%2f%2fwww.googleapis.com%2fauth%2fdrive.photos.readonly%20https%3a%2f%2fwww.googleapis.com%2fauth%2fpeopleapi.readonly\n",
            "\n",
            "Enter your authorization code:\n",
            "··········\n",
            "Mounted at /content/drive\n"
          ],
          "name": "stdout"
        }
      ]
    },
    {
      "cell_type": "markdown",
      "metadata": {
        "id": "e1leFGe9-4nt",
        "colab_type": "text"
      },
      "source": [
        "#Feature Extraction"
      ]
    },
    {
      "cell_type": "code",
      "metadata": {
        "id": "J-rBt-QieT0y",
        "colab_type": "code",
        "colab": {}
      },
      "source": [
        "# Setup SimpleBlobDetector parameters.\n",
        "params = cv2.SimpleBlobDetector_Params()\n",
        " \n",
        "# Change thresholds\n",
        "params.minThreshold = 0;\n",
        "params.maxThreshold = 254;\n",
        " \n",
        "# Filter by Area.\n",
        "params.filterByArea = False\n",
        "\n",
        "# Filter by Circularity\n",
        "params.filterByCircularity = False\n",
        "\n",
        " \n",
        "# Filter by Convexity\n",
        "params.filterByConvexity = False\n",
        "\n",
        "# Filter by Inertia\n",
        "params.filterByInertia = False"
      ],
      "execution_count": 0,
      "outputs": []
    },
    {
      "cell_type": "code",
      "metadata": {
        "id": "7-JuKRmreT00",
        "colab_type": "code",
        "outputId": "55aac196-47f9-494f-f563-053a28512571",
        "colab": {
          "base_uri": "https://localhost:8080/",
          "height": 202
        }
      },
      "source": [
        "new_entry = {'file name': [],'fruit type':[], 'rgbmean': [], 'convexity':[], 'circularity':[], 'inertia ratio':[]}\n",
        "features = pd.DataFrame(new_entry)\n",
        "path = \"/content/drive/My Drive/186/fruits/\"\n",
        "fruit_folders = [\"apples/\", \"oranges/\", \"bananas/\"]\n",
        "ind = 0\n",
        "labels = ['red','orange','yellow']\n",
        "\n",
        "for folder in fruit_folders:\n",
        "    wdir = path + folder\n",
        "    files = wdir+\"*.jpg\"\n",
        "    ftype = labels[ind]\n",
        "    ind +=1\n",
        "    print(folder)\n",
        "    for file in glob.glob(files):\n",
        "        filename = file[-6:-4]\n",
        "        fruit = cv2.imread(filename=file)\n",
        "        \n",
        "        gray = cv2.cvtColor(fruit, cv2.COLOR_BGR2GRAY)\n",
        "        th, threshed = cv2.threshold(gray, 240, 255, cv2.THRESH_BINARY_INV)\n",
        "        kernel = cv2.getStructuringElement(cv2.MORPH_ELLIPSE, (10,10))\n",
        "        morphed = cv2.morphologyEx(threshed, cv2.MORPH_CLOSE, kernel)\n",
        "        cnts = cv2.findContours(morphed, cv2.RETR_EXTERNAL, cv2.CHAIN_APPROX_SIMPLE)[-2]\n",
        "        cnt = sorted(cnts, key=cv2.contourArea)[-1]\n",
        "        x,y,w,h = cv2.boundingRect(cnt)\n",
        "        dst = fruit[y:y+h, x:x+w]\n",
        "        save_file = wdir+\"cropped/\"+filename+\"-cropped.jpg\"\n",
        "        cv2.imwrite(save_file,dst)\n",
        "        \n",
        "        fruit_c = cv2.imread(filename=save_file)\n",
        "        fruit_rgb_mean = np.mean(fruit_c/256)\n",
        "        \n",
        "        ret,thresh = cv2.threshold(gray,240,255,cv2.THRESH_BINARY_INV)\n",
        "        kernel = cv2.getStructuringElement(cv2.MORPH_ELLIPSE, (4,4))\n",
        "        thresh = cv2.morphologyEx(thresh, cv2.MORPH_CLOSE, kernel)\n",
        "    \n",
        "      # Set up the detector with default parameters.\n",
        "        detector = cv2.SimpleBlobDetector_create(params)\n",
        "      # Detect blobs.\n",
        "        keypoints = detector.detect(thresh)\n",
        "        label, N = sm.measure.label(thresh, background=0, return_num=True)\n",
        "        \n",
        "        if N!=1:\n",
        "            while N != 1:\n",
        "                thresh = cv2.morphologyEx(thresh, cv2.MORPH_CLOSE, kernel)\n",
        "                detector = cv2.SimpleBlobDetector_create(params)\n",
        "                keypoints = detector.detect(thresh)\n",
        "                label, N = sm.measure.label(thresh, background=0, return_num=True)\n",
        "            #print(filename,N)\n",
        "            binary = wdir+\"cropped/\"+filename+\"-binary.jpg\"\n",
        "            cv2.imwrite(binary,thresh)\n",
        "            reg = sm.measure.regionprops(label,thresh)\n",
        "            area = reg[0].area\n",
        "            conv_area = reg[0].convex_area\n",
        "            perimeter = reg[0].perimeter\n",
        "            inertia_a = reg[0].inertia_tensor_eigvals[0]\n",
        "            inertia_b = reg[0].inertia_tensor_eigvals[1]\n",
        "    \n",
        "            convexity = area / conv_area\n",
        "            circularity = (4* np.pi * area) / (perimeter**2)\n",
        "            inertia = inertia_b/inertia_a\n",
        "            #print(filename,' RGB MEAN:',fruit_rgb_mean,'; N:',N,'; Convexity:', convexity,'; Circularity:',circularity,'; Inertia:',inertia)\n",
        "            new_entry = {'file name': filename,'fruit type':ftype,'rgbmean':fruit_rgb_mean, 'convexity':convexity, 'circularity':circularity, 'inertia ratio':inertia}\n",
        "            features = features.append(new_entry, ignore_index=True)\n",
        "        \n",
        "            continue\n",
        "        \n",
        "        #print(N)\n",
        "        binary = wdir+\"cropped/\"+filename+\"-binary.jpg\"\n",
        "        cv2.imwrite(binary,thresh)\n",
        "    \n",
        "        reg = sm.measure.regionprops(label,thresh)\n",
        "        area = reg[0].area\n",
        "        conv_area = reg[0].convex_area\n",
        "        perimeter = reg[0].perimeter\n",
        "        inertia_a = reg[0].inertia_tensor_eigvals[0]\n",
        "        inertia_b = reg[0].inertia_tensor_eigvals[1]\n",
        "    \n",
        "        convexity = area / conv_area\n",
        "        circularity = (4* np.pi * area) / (perimeter**2)\n",
        "        inertia = inertia_b/inertia_a        \n",
        "        new_entry = {'file name': filename,'fruit type':ftype, 'rgbmean': fruit_rgb_mean,'convexity':convexity, 'circularity':circularity, 'inertia ratio':inertia}\n",
        "        features = features.append(new_entry, ignore_index=True)"
      ],
      "execution_count": 0,
      "outputs": [
        {
          "output_type": "stream",
          "text": [
            "apples/\n"
          ],
          "name": "stdout"
        },
        {
          "output_type": "stream",
          "text": [
            "/usr/local/lib/python3.6/dist-packages/skimage/measure/_regionprops.py:250: UserWarning: regionprops and image moments (including moments, normalized moments, central moments, and inertia tensor) of 2D images will change from xy coordinates to rc coordinates in version 0.16.\n",
            "See https://scikit-image.org/docs/0.14.x/release_notes_and_installation.html#deprecations for details on how to avoid this message.\n",
            "  warn(XY_TO_RC_DEPRECATION_MESSAGE)\n",
            "/usr/local/lib/python3.6/dist-packages/skimage/measure/_regionprops.py:260: UserWarning: regionprops and image moments (including moments, normalized moments, central moments, and inertia tensor) of 2D images will change from xy coordinates to rc coordinates in version 0.16.\n",
            "See https://scikit-image.org/docs/0.14.x/release_notes_and_installation.html#deprecations for details on how to avoid this message.\n",
            "  warn(XY_TO_RC_DEPRECATION_MESSAGE)\n"
          ],
          "name": "stderr"
        },
        {
          "output_type": "stream",
          "text": [
            "oranges/\n",
            "bananas/\n"
          ],
          "name": "stdout"
        }
      ]
    },
    {
      "cell_type": "markdown",
      "metadata": {
        "id": "v0hPROvn--fP",
        "colab_type": "text"
      },
      "source": [
        "#Features"
      ]
    },
    {
      "cell_type": "code",
      "metadata": {
        "id": "oQS4ZJYGeT03",
        "colab_type": "code",
        "outputId": "b15f1f40-e611-4d96-c988-4dabac586787",
        "colab": {
          "base_uri": "https://localhost:8080/",
          "height": 1000
        }
      },
      "source": [
        "features"
      ],
      "execution_count": 0,
      "outputs": [
        {
          "output_type": "execute_result",
          "data": {
            "text/html": [
              "<div>\n",
              "<style scoped>\n",
              "    .dataframe tbody tr th:only-of-type {\n",
              "        vertical-align: middle;\n",
              "    }\n",
              "\n",
              "    .dataframe tbody tr th {\n",
              "        vertical-align: top;\n",
              "    }\n",
              "\n",
              "    .dataframe thead th {\n",
              "        text-align: right;\n",
              "    }\n",
              "</style>\n",
              "<table border=\"1\" class=\"dataframe\">\n",
              "  <thead>\n",
              "    <tr style=\"text-align: right;\">\n",
              "      <th></th>\n",
              "      <th>file name</th>\n",
              "      <th>fruit type</th>\n",
              "      <th>rgbmean</th>\n",
              "      <th>convexity</th>\n",
              "      <th>circularity</th>\n",
              "      <th>inertia ratio</th>\n",
              "    </tr>\n",
              "  </thead>\n",
              "  <tbody>\n",
              "    <tr>\n",
              "      <th>0</th>\n",
              "      <td>02</td>\n",
              "      <td>red</td>\n",
              "      <td>0.595774</td>\n",
              "      <td>0.999024</td>\n",
              "      <td>0.892545</td>\n",
              "      <td>0.885877</td>\n",
              "    </tr>\n",
              "    <tr>\n",
              "      <th>1</th>\n",
              "      <td>37</td>\n",
              "      <td>red</td>\n",
              "      <td>0.587019</td>\n",
              "      <td>0.970451</td>\n",
              "      <td>0.807966</td>\n",
              "      <td>0.899403</td>\n",
              "    </tr>\n",
              "    <tr>\n",
              "      <th>2</th>\n",
              "      <td>19</td>\n",
              "      <td>red</td>\n",
              "      <td>0.500390</td>\n",
              "      <td>0.967210</td>\n",
              "      <td>0.775939</td>\n",
              "      <td>0.746720</td>\n",
              "    </tr>\n",
              "    <tr>\n",
              "      <th>3</th>\n",
              "      <td>08</td>\n",
              "      <td>red</td>\n",
              "      <td>0.497882</td>\n",
              "      <td>0.991004</td>\n",
              "      <td>0.878732</td>\n",
              "      <td>0.827307</td>\n",
              "    </tr>\n",
              "    <tr>\n",
              "      <th>4</th>\n",
              "      <td>03</td>\n",
              "      <td>red</td>\n",
              "      <td>0.529208</td>\n",
              "      <td>0.965941</td>\n",
              "      <td>0.633915</td>\n",
              "      <td>0.726095</td>\n",
              "    </tr>\n",
              "    <tr>\n",
              "      <th>5</th>\n",
              "      <td>25</td>\n",
              "      <td>red</td>\n",
              "      <td>0.566883</td>\n",
              "      <td>0.976699</td>\n",
              "      <td>0.824910</td>\n",
              "      <td>0.808698</td>\n",
              "    </tr>\n",
              "    <tr>\n",
              "      <th>6</th>\n",
              "      <td>26</td>\n",
              "      <td>red</td>\n",
              "      <td>0.498262</td>\n",
              "      <td>0.977636</td>\n",
              "      <td>0.821655</td>\n",
              "      <td>0.964853</td>\n",
              "    </tr>\n",
              "    <tr>\n",
              "      <th>7</th>\n",
              "      <td>09</td>\n",
              "      <td>red</td>\n",
              "      <td>0.489888</td>\n",
              "      <td>0.962301</td>\n",
              "      <td>0.749591</td>\n",
              "      <td>0.826559</td>\n",
              "    </tr>\n",
              "    <tr>\n",
              "      <th>8</th>\n",
              "      <td>34</td>\n",
              "      <td>red</td>\n",
              "      <td>0.564600</td>\n",
              "      <td>0.975133</td>\n",
              "      <td>0.818959</td>\n",
              "      <td>0.860007</td>\n",
              "    </tr>\n",
              "    <tr>\n",
              "      <th>9</th>\n",
              "      <td>38</td>\n",
              "      <td>red</td>\n",
              "      <td>0.581233</td>\n",
              "      <td>0.936779</td>\n",
              "      <td>0.611577</td>\n",
              "      <td>0.889765</td>\n",
              "    </tr>\n",
              "    <tr>\n",
              "      <th>10</th>\n",
              "      <td>44</td>\n",
              "      <td>red</td>\n",
              "      <td>0.544073</td>\n",
              "      <td>0.968350</td>\n",
              "      <td>0.787053</td>\n",
              "      <td>0.868931</td>\n",
              "    </tr>\n",
              "    <tr>\n",
              "      <th>11</th>\n",
              "      <td>49</td>\n",
              "      <td>red</td>\n",
              "      <td>0.579252</td>\n",
              "      <td>0.982881</td>\n",
              "      <td>0.875581</td>\n",
              "      <td>0.805130</td>\n",
              "    </tr>\n",
              "    <tr>\n",
              "      <th>12</th>\n",
              "      <td>45</td>\n",
              "      <td>red</td>\n",
              "      <td>0.573520</td>\n",
              "      <td>0.960229</td>\n",
              "      <td>0.707369</td>\n",
              "      <td>0.847519</td>\n",
              "    </tr>\n",
              "    <tr>\n",
              "      <th>13</th>\n",
              "      <td>47</td>\n",
              "      <td>red</td>\n",
              "      <td>0.521722</td>\n",
              "      <td>0.914428</td>\n",
              "      <td>0.628469</td>\n",
              "      <td>0.419497</td>\n",
              "    </tr>\n",
              "    <tr>\n",
              "      <th>14</th>\n",
              "      <td>43</td>\n",
              "      <td>red</td>\n",
              "      <td>0.566402</td>\n",
              "      <td>0.952610</td>\n",
              "      <td>0.761042</td>\n",
              "      <td>0.915711</td>\n",
              "    </tr>\n",
              "    <tr>\n",
              "      <th>15</th>\n",
              "      <td>48</td>\n",
              "      <td>red</td>\n",
              "      <td>0.462887</td>\n",
              "      <td>0.957757</td>\n",
              "      <td>0.817362</td>\n",
              "      <td>0.883268</td>\n",
              "    </tr>\n",
              "    <tr>\n",
              "      <th>16</th>\n",
              "      <td>46</td>\n",
              "      <td>red</td>\n",
              "      <td>0.573597</td>\n",
              "      <td>0.964473</td>\n",
              "      <td>0.771515</td>\n",
              "      <td>0.878992</td>\n",
              "    </tr>\n",
              "    <tr>\n",
              "      <th>17</th>\n",
              "      <td>39</td>\n",
              "      <td>red</td>\n",
              "      <td>0.576052</td>\n",
              "      <td>0.991735</td>\n",
              "      <td>0.890549</td>\n",
              "      <td>0.942318</td>\n",
              "    </tr>\n",
              "    <tr>\n",
              "      <th>18</th>\n",
              "      <td>50</td>\n",
              "      <td>red</td>\n",
              "      <td>0.499272</td>\n",
              "      <td>0.945392</td>\n",
              "      <td>0.735923</td>\n",
              "      <td>0.628253</td>\n",
              "    </tr>\n",
              "    <tr>\n",
              "      <th>19</th>\n",
              "      <td>07</td>\n",
              "      <td>orange</td>\n",
              "      <td>0.690024</td>\n",
              "      <td>0.990061</td>\n",
              "      <td>0.912255</td>\n",
              "      <td>0.855278</td>\n",
              "    </tr>\n",
              "    <tr>\n",
              "      <th>20</th>\n",
              "      <td>27</td>\n",
              "      <td>orange</td>\n",
              "      <td>0.672425</td>\n",
              "      <td>0.971641</td>\n",
              "      <td>0.882327</td>\n",
              "      <td>0.979172</td>\n",
              "    </tr>\n",
              "    <tr>\n",
              "      <th>21</th>\n",
              "      <td>22</td>\n",
              "      <td>orange</td>\n",
              "      <td>0.693446</td>\n",
              "      <td>0.978045</td>\n",
              "      <td>0.908354</td>\n",
              "      <td>0.947256</td>\n",
              "    </tr>\n",
              "    <tr>\n",
              "      <th>22</th>\n",
              "      <td>24</td>\n",
              "      <td>orange</td>\n",
              "      <td>0.726859</td>\n",
              "      <td>0.981098</td>\n",
              "      <td>0.902494</td>\n",
              "      <td>0.963370</td>\n",
              "    </tr>\n",
              "    <tr>\n",
              "      <th>23</th>\n",
              "      <td>21</td>\n",
              "      <td>orange</td>\n",
              "      <td>0.675878</td>\n",
              "      <td>0.987617</td>\n",
              "      <td>0.925542</td>\n",
              "      <td>0.945900</td>\n",
              "    </tr>\n",
              "    <tr>\n",
              "      <th>24</th>\n",
              "      <td>23</td>\n",
              "      <td>orange</td>\n",
              "      <td>0.700426</td>\n",
              "      <td>0.976985</td>\n",
              "      <td>0.890208</td>\n",
              "      <td>0.995717</td>\n",
              "    </tr>\n",
              "    <tr>\n",
              "      <th>25</th>\n",
              "      <td>26</td>\n",
              "      <td>orange</td>\n",
              "      <td>0.671134</td>\n",
              "      <td>0.982026</td>\n",
              "      <td>0.885469</td>\n",
              "      <td>0.981981</td>\n",
              "    </tr>\n",
              "    <tr>\n",
              "      <th>26</th>\n",
              "      <td>25</td>\n",
              "      <td>orange</td>\n",
              "      <td>0.704399</td>\n",
              "      <td>0.982245</td>\n",
              "      <td>0.903646</td>\n",
              "      <td>0.989400</td>\n",
              "    </tr>\n",
              "    <tr>\n",
              "      <th>27</th>\n",
              "      <td>29</td>\n",
              "      <td>orange</td>\n",
              "      <td>0.670023</td>\n",
              "      <td>0.984364</td>\n",
              "      <td>0.919638</td>\n",
              "      <td>0.978521</td>\n",
              "    </tr>\n",
              "    <tr>\n",
              "      <th>28</th>\n",
              "      <td>28</td>\n",
              "      <td>orange</td>\n",
              "      <td>0.631842</td>\n",
              "      <td>0.970588</td>\n",
              "      <td>0.852036</td>\n",
              "      <td>0.974635</td>\n",
              "    </tr>\n",
              "    <tr>\n",
              "      <th>29</th>\n",
              "      <td>55</td>\n",
              "      <td>orange</td>\n",
              "      <td>0.635002</td>\n",
              "      <td>0.975231</td>\n",
              "      <td>0.802998</td>\n",
              "      <td>0.856281</td>\n",
              "    </tr>\n",
              "    <tr>\n",
              "      <th>30</th>\n",
              "      <td>74</td>\n",
              "      <td>orange</td>\n",
              "      <td>0.656701</td>\n",
              "      <td>0.979504</td>\n",
              "      <td>0.834119</td>\n",
              "      <td>0.824851</td>\n",
              "    </tr>\n",
              "    <tr>\n",
              "      <th>31</th>\n",
              "      <td>99</td>\n",
              "      <td>orange</td>\n",
              "      <td>0.683079</td>\n",
              "      <td>0.992598</td>\n",
              "      <td>0.889834</td>\n",
              "      <td>0.910962</td>\n",
              "    </tr>\n",
              "    <tr>\n",
              "      <th>32</th>\n",
              "      <td>51</td>\n",
              "      <td>yellow</td>\n",
              "      <td>0.777866</td>\n",
              "      <td>0.838804</td>\n",
              "      <td>0.570066</td>\n",
              "      <td>0.483950</td>\n",
              "    </tr>\n",
              "    <tr>\n",
              "      <th>33</th>\n",
              "      <td>05</td>\n",
              "      <td>yellow</td>\n",
              "      <td>0.778583</td>\n",
              "      <td>0.613448</td>\n",
              "      <td>0.248079</td>\n",
              "      <td>0.222113</td>\n",
              "    </tr>\n",
              "    <tr>\n",
              "      <th>34</th>\n",
              "      <td>10</td>\n",
              "      <td>yellow</td>\n",
              "      <td>0.808684</td>\n",
              "      <td>0.716076</td>\n",
              "      <td>0.393451</td>\n",
              "      <td>0.117884</td>\n",
              "    </tr>\n",
              "    <tr>\n",
              "      <th>35</th>\n",
              "      <td>26</td>\n",
              "      <td>yellow</td>\n",
              "      <td>0.771433</td>\n",
              "      <td>0.802294</td>\n",
              "      <td>0.515053</td>\n",
              "      <td>0.391717</td>\n",
              "    </tr>\n",
              "    <tr>\n",
              "      <th>36</th>\n",
              "      <td>15</td>\n",
              "      <td>yellow</td>\n",
              "      <td>0.771858</td>\n",
              "      <td>0.803380</td>\n",
              "      <td>0.499743</td>\n",
              "      <td>0.392995</td>\n",
              "    </tr>\n",
              "    <tr>\n",
              "      <th>37</th>\n",
              "      <td>17</td>\n",
              "      <td>yellow</td>\n",
              "      <td>0.744919</td>\n",
              "      <td>0.777208</td>\n",
              "      <td>0.459161</td>\n",
              "      <td>0.121300</td>\n",
              "    </tr>\n",
              "    <tr>\n",
              "      <th>38</th>\n",
              "      <td>00</td>\n",
              "      <td>yellow</td>\n",
              "      <td>0.830763</td>\n",
              "      <td>0.664402</td>\n",
              "      <td>0.372539</td>\n",
              "      <td>0.124616</td>\n",
              "    </tr>\n",
              "    <tr>\n",
              "      <th>39</th>\n",
              "      <td>24</td>\n",
              "      <td>yellow</td>\n",
              "      <td>0.816027</td>\n",
              "      <td>0.709044</td>\n",
              "      <td>0.367893</td>\n",
              "      <td>0.095884</td>\n",
              "    </tr>\n",
              "    <tr>\n",
              "      <th>40</th>\n",
              "      <td>29</td>\n",
              "      <td>yellow</td>\n",
              "      <td>0.815221</td>\n",
              "      <td>0.887469</td>\n",
              "      <td>0.541977</td>\n",
              "      <td>0.466068</td>\n",
              "    </tr>\n",
              "    <tr>\n",
              "      <th>41</th>\n",
              "      <td>31</td>\n",
              "      <td>yellow</td>\n",
              "      <td>0.766590</td>\n",
              "      <td>0.888458</td>\n",
              "      <td>0.583468</td>\n",
              "      <td>0.305523</td>\n",
              "    </tr>\n",
              "    <tr>\n",
              "      <th>42</th>\n",
              "      <td>32</td>\n",
              "      <td>yellow</td>\n",
              "      <td>0.794783</td>\n",
              "      <td>0.858967</td>\n",
              "      <td>0.497861</td>\n",
              "      <td>0.339301</td>\n",
              "    </tr>\n",
              "    <tr>\n",
              "      <th>43</th>\n",
              "      <td>22</td>\n",
              "      <td>yellow</td>\n",
              "      <td>0.814553</td>\n",
              "      <td>0.581640</td>\n",
              "      <td>0.276073</td>\n",
              "      <td>0.155744</td>\n",
              "    </tr>\n",
              "    <tr>\n",
              "      <th>44</th>\n",
              "      <td>36</td>\n",
              "      <td>yellow</td>\n",
              "      <td>0.804404</td>\n",
              "      <td>0.960505</td>\n",
              "      <td>0.684541</td>\n",
              "      <td>0.355746</td>\n",
              "    </tr>\n",
              "    <tr>\n",
              "      <th>45</th>\n",
              "      <td>53</td>\n",
              "      <td>yellow</td>\n",
              "      <td>0.810054</td>\n",
              "      <td>0.767885</td>\n",
              "      <td>0.451385</td>\n",
              "      <td>0.410530</td>\n",
              "    </tr>\n",
              "  </tbody>\n",
              "</table>\n",
              "</div>"
            ],
            "text/plain": [
              "   file name fruit type   rgbmean  convexity  circularity  inertia ratio\n",
              "0         02        red  0.595774   0.999024     0.892545       0.885877\n",
              "1         37        red  0.587019   0.970451     0.807966       0.899403\n",
              "2         19        red  0.500390   0.967210     0.775939       0.746720\n",
              "3         08        red  0.497882   0.991004     0.878732       0.827307\n",
              "4         03        red  0.529208   0.965941     0.633915       0.726095\n",
              "5         25        red  0.566883   0.976699     0.824910       0.808698\n",
              "6         26        red  0.498262   0.977636     0.821655       0.964853\n",
              "7         09        red  0.489888   0.962301     0.749591       0.826559\n",
              "8         34        red  0.564600   0.975133     0.818959       0.860007\n",
              "9         38        red  0.581233   0.936779     0.611577       0.889765\n",
              "10        44        red  0.544073   0.968350     0.787053       0.868931\n",
              "11        49        red  0.579252   0.982881     0.875581       0.805130\n",
              "12        45        red  0.573520   0.960229     0.707369       0.847519\n",
              "13        47        red  0.521722   0.914428     0.628469       0.419497\n",
              "14        43        red  0.566402   0.952610     0.761042       0.915711\n",
              "15        48        red  0.462887   0.957757     0.817362       0.883268\n",
              "16        46        red  0.573597   0.964473     0.771515       0.878992\n",
              "17        39        red  0.576052   0.991735     0.890549       0.942318\n",
              "18        50        red  0.499272   0.945392     0.735923       0.628253\n",
              "19        07     orange  0.690024   0.990061     0.912255       0.855278\n",
              "20        27     orange  0.672425   0.971641     0.882327       0.979172\n",
              "21        22     orange  0.693446   0.978045     0.908354       0.947256\n",
              "22        24     orange  0.726859   0.981098     0.902494       0.963370\n",
              "23        21     orange  0.675878   0.987617     0.925542       0.945900\n",
              "24        23     orange  0.700426   0.976985     0.890208       0.995717\n",
              "25        26     orange  0.671134   0.982026     0.885469       0.981981\n",
              "26        25     orange  0.704399   0.982245     0.903646       0.989400\n",
              "27        29     orange  0.670023   0.984364     0.919638       0.978521\n",
              "28        28     orange  0.631842   0.970588     0.852036       0.974635\n",
              "29        55     orange  0.635002   0.975231     0.802998       0.856281\n",
              "30        74     orange  0.656701   0.979504     0.834119       0.824851\n",
              "31        99     orange  0.683079   0.992598     0.889834       0.910962\n",
              "32        51     yellow  0.777866   0.838804     0.570066       0.483950\n",
              "33        05     yellow  0.778583   0.613448     0.248079       0.222113\n",
              "34        10     yellow  0.808684   0.716076     0.393451       0.117884\n",
              "35        26     yellow  0.771433   0.802294     0.515053       0.391717\n",
              "36        15     yellow  0.771858   0.803380     0.499743       0.392995\n",
              "37        17     yellow  0.744919   0.777208     0.459161       0.121300\n",
              "38        00     yellow  0.830763   0.664402     0.372539       0.124616\n",
              "39        24     yellow  0.816027   0.709044     0.367893       0.095884\n",
              "40        29     yellow  0.815221   0.887469     0.541977       0.466068\n",
              "41        31     yellow  0.766590   0.888458     0.583468       0.305523\n",
              "42        32     yellow  0.794783   0.858967     0.497861       0.339301\n",
              "43        22     yellow  0.814553   0.581640     0.276073       0.155744\n",
              "44        36     yellow  0.804404   0.960505     0.684541       0.355746\n",
              "45        53     yellow  0.810054   0.767885     0.451385       0.410530"
            ]
          },
          "metadata": {
            "tags": []
          },
          "execution_count": 6
        }
      ]
    },
    {
      "cell_type": "code",
      "metadata": {
        "id": "-Ly0lHfZeT06",
        "colab_type": "code",
        "colab": {}
      },
      "source": [
        "apple = features[features['fruit type'] == 'red']\n",
        "banana = features[features['fruit type'] == 'yellow']\n",
        "orange = features[features['fruit type'] == 'orange']"
      ],
      "execution_count": 0,
      "outputs": []
    },
    {
      "cell_type": "markdown",
      "metadata": {
        "id": "DG6a_pmMALRs",
        "colab_type": "text"
      },
      "source": [
        "#Feature Spaces"
      ]
    },
    {
      "cell_type": "code",
      "metadata": {
        "id": "fqAt9GdmAfnB",
        "colab_type": "code",
        "outputId": "555781a2-e2e2-4d70-89e0-8638018f6c6b",
        "colab": {
          "base_uri": "https://localhost:8080/",
          "height": 279
        }
      },
      "source": [
        "plt.plot(banana['rgbmean'], banana['convexity'], 'yo', mec='k', mew=0.5)\n",
        "plt.plot(apple['rgbmean'], apple['convexity'], 'ro', mec='k', mew=0.5)\n",
        "plt.plot(orange['rgbmean'], orange['convexity'], 'o', color='orange', mec='k', mew=0.5)\n",
        "plt.legend(['banana', 'apple', 'orange'])\n",
        "plt.xlabel('RGB Mean Value')\n",
        "plt.ylabel('convexity')\n",
        "# plt.savefig('ab-space.png', dpi=300, bbox_inches='tight')\n",
        "plt.show()"
      ],
      "execution_count": 0,
      "outputs": [
        {
          "output_type": "display_data",
          "data": {
            "image/png": "[encoded data removed]",
            "text/plain": [
              "<Figure size 432x288 with 1 Axes>"
            ]
          },
          "metadata": {
            "tags": []
          }
        }
      ]
    },
    {
      "cell_type": "code",
      "metadata": {
        "id": "t3a5_HhceT1E",
        "colab_type": "code",
        "outputId": "59664699-701b-41f8-8346-9cb426ad13bb",
        "colab": {
          "base_uri": "https://localhost:8080/",
          "height": 279
        }
      },
      "source": [
        "plt.plot(banana['rgbmean'], banana['circularity'], 'yo', mec='k', mew=0.5)\n",
        "plt.plot(apple['rgbmean'], apple['circularity'], 'ro', mec='k', mew=0.5)\n",
        "#plt.plot(orange['rgbmean'], orange['circularity'], 'o', color='orange', mec='k', mew=0.5)\n",
        "plt.legend(['banana', 'apple', 'orange'])\n",
        "plt.xlabel('RGB Mean Value')\n",
        "plt.ylabel('circularity')\n",
        "# plt.savefig('ab-space.png', dpi=300, bbox_inches='tight')\n",
        "plt.show()"
      ],
      "execution_count": 0,
      "outputs": [
        {
          "output_type": "display_data",
          "data": {
            "image/png": "[encoded data removed]",
            "text/plain": [
              "<Figure size 432x288 with 1 Axes>"
            ]
          },
          "metadata": {
            "tags": []
          }
        }
      ]
    },
    {
      "cell_type": "code",
      "metadata": {
        "id": "bEEQsXRDAvW0",
        "colab_type": "code",
        "outputId": "5150e57a-6f61-429d-e38d-ca5e2bd011eb",
        "colab": {
          "base_uri": "https://localhost:8080/",
          "height": 279
        }
      },
      "source": [
        "plt.plot(banana['rgbmean'], banana['inertia ratio'], 'yo', mec='k', mew=0.5)\n",
        "plt.plot(apple['rgbmean'], apple['inertia ratio'], 'ro', mec='k', mew=0.5)\n",
        "plt.plot(orange['rgbmean'], orange['inertia ratio'], 'o', color='orange', mec='k', mew=0.5)\n",
        "plt.legend(['banana', 'apple', 'orange'])\n",
        "plt.xlabel('RGB Mean Value')\n",
        "plt.ylabel('inertia ratio')\n",
        "# plt.savefig('ab-space.png', dpi=300, bbox_inches='tight')\n",
        "plt.show()"
      ],
      "execution_count": 0,
      "outputs": [
        {
          "output_type": "display_data",
          "data": {
            "image/png": "[encoded data removed]",
            "text/plain": [
              "<Figure size 432x288 with 1 Axes>"
            ]
          },
          "metadata": {
            "tags": []
          }
        }
      ]
    },
    {
      "cell_type": "markdown",
      "metadata": {
        "id": "gz-Pe0KIB8bv",
        "colab_type": "text"
      },
      "source": [
        "#Reference Method"
      ]
    },
    {
      "cell_type": "code",
      "metadata": {
        "id": "_BOMAhrleT1G",
        "colab_type": "code",
        "colab": {}
      },
      "source": [
        "app_a = apple['rgbmean']\n",
        "app_b = apple['convexity']\n",
        "ban_a = banana['rgbmean']\n",
        "ban_b = banana['convexity']\n",
        "xdat = np.concatenate((app_a, ban_a))\n",
        "ydat = np.concatenate((app_b, ban_b))\n",
        "X = np.column_stack((xdat, ydat))\n",
        "y = np.concatenate((np.ones(len(app_a)), -np.ones(len(ban_a))))"
      ],
      "execution_count": 0,
      "outputs": []
    },
    {
      "cell_type": "code",
      "metadata": {
        "id": "t1hBKEroeT1H",
        "colab_type": "code",
        "colab": {}
      },
      "source": [
        "class SupportVectorMachine:\n",
        "    def __init__(self, \n",
        "                 use_bias=False,                 \n",
        "                 data_center=False,\n",
        "                 data_std=False,\n",
        "                 bias_initializer='ones',\n",
        "                 tol=1e-12):\n",
        "        self.use_bias = use_bias\n",
        "        self.bias_initializer = bias_initializer\n",
        "        self.data_center = data_center\n",
        "        self.data_std = data_std\n",
        "        self.tol = tol\n",
        "    \n",
        "    def get_initializer(self):\n",
        "        if self.bias_initializer == 'ones':\n",
        "            return np.ones\n",
        "        elif self.bias_initializer == 'zeros':\n",
        "            return np.zeros\n",
        "        elif self.bias_initializer == 'random_uniform':\n",
        "            return rand.random\n",
        "        elif self.bias_initializer == 'random_normal':\n",
        "            return rand.normal\n",
        "    \n",
        "    def train(self, X, y, solver='cvxpy', verbose=False):        \n",
        "        if self.data_center:\n",
        "            X -= X.mean()\n",
        "        if self.data_std:\n",
        "            X /= X.std()\n",
        "        \n",
        "        self.X = X\n",
        "        self.y = y\n",
        "        self.solver = solver\n",
        "        \n",
        "        if self.use_bias:\n",
        "            self.bias = self.get_initializer()\n",
        "            X = np.column_stack((self.bias(len(X)), X))\n",
        "        H = (X.dot(X.T)) * (y.dot(y.T))\n",
        "        A = -np.identity(len(X))\n",
        "        a = np.zeros(len(X))\n",
        "        B = np.vstack((y, np.zeros((len(y)-1, len(y)))))\n",
        "        b = np.zeros(len(X))\n",
        "        f = -np.ones(len(X))\n",
        "        \n",
        "        if solver == 'cvxpy':\n",
        "            alpha = cvx.Variable(len(X))\n",
        "            objective = cvx.Minimize(1/2*cvx.quad_form(alpha, H) + f.T@alpha)\n",
        "            constraints = [A@alpha <= a, B@alpha == b]\n",
        "            problem = cvx.Problem(objective, constraints)\n",
        "            problem.solve(verbose=verbose)\n",
        "            self.alpha = alpha.value\n",
        "            self.alpha[self.alpha < self.tol] = 0\n",
        "        elif solver == 'quadprog':\n",
        "            self.alpha = qp.solve_qp(H, f, A, a, B, b, solver=solver)\n",
        "        elif solver == 'libsvm':\n",
        "            problem = svm.SVC(kernel='linear', verbose=verbose)\n",
        "            problem.fit(X, y)\n",
        "            self.clf = problem\n",
        "            return\n",
        "            \n",
        "        w = (self.alpha*y).T.dot(X)\n",
        "        self.supp_idx = np.squeeze(np.where(self.alpha > self.tol))\n",
        "        w0 = 1/y[self.supp_idx[0]] - w.T.dot(X[self.supp_idx[0]])\n",
        "        \n",
        "        self.w = w\n",
        "        self.w0 = w0\n",
        "        self.m = -self.w[1]/self.w[2]\n",
        "        self.b = -self.w[0]/self.w[2]\n",
        "        \n",
        "    def predict(self, X):\n",
        "        if self.solver is not 'libsvm':\n",
        "            return np.sign(self.w.T.dot(X) + self.b)\n",
        "        else:\n",
        "            return self.clf.predict(X)\n",
        "    \n",
        "    def plot_db(self, save=False):\n",
        "        xmin, xmax = np.min(self.X.T[0])-1, np.max(self.X.T[0])+1\n",
        "        ymin, ymax = np.min(self.X.T[1])-1, np.max(self.X.T[1])+1\n",
        "        xx = np.linspace(xmin, xmax, 1000)\n",
        "        yy = np.linspace(ymin, ymax, 1000)\n",
        "        X, Y = np.meshgrid(xx, yy)\n",
        "        Z = self.clf.predict(np.c_[X.ravel(), Y.ravel()])\n",
        "        Z = Z.reshape(X.shape)\n",
        "        w = self.clf.coef_[0]\n",
        "        a = -w[0]/w[1]\n",
        "        b = self.clf.intercept_[0]\n",
        "        x = np.linspace(xmin, xmax)\n",
        "        y = a*x - b/w[1]\n",
        "        margin = 1/la.norm(self.clf.coef_, 2)\n",
        "        nav = y - np.sqrt(1 + a**2)*margin\n",
        "        pav = y + np.sqrt(1 + a**2)*margin\n",
        "        fig, ax = plt.subplots(1, 1)\n",
        "        \n",
        "        if self.solver is not 'libsvm':\n",
        "            ax.plot(*self.X[self.supp_idx].T, 'o', \n",
        "                     mfc='None', mew=1.5, mec='b', ms=10)\n",
        "            ax.plot(x, self.m*x + self.b, 'k-', lw=1.5)\n",
        "            legend = ax.legend(*scatter.legend_elements(), \n",
        "                               title='classes')\n",
        "            ax.add_artist(legend)\n",
        "        else:\n",
        "            ax.contourf(X, Y, Z, cmap='YlOrRd_r', alpha=0.65)\n",
        "            ax.plot(x, y, 'k-', lw=1.5)\n",
        "            ax.plot(x, pav, 'k--', lw=1)\n",
        "            ax.plot(x, nav, 'k--', lw=1)\n",
        "            ax.plot(self.clf.support_vectors_.T[0], self.clf.support_vectors_.T[1],\n",
        "                    'o', mfc='None', mew=1.5, ms=8, mec='b')\n",
        "            \n",
        "        scatter = ax.scatter(self.X.T[0], self.X.T[1], \n",
        "                             c=self.y, cmap='YlOrRd_r', edgecolors='k', \n",
        "                             linewidths=1)\n",
        "        ax.set_xlabel('$a^*$')\n",
        "        ax.set_ylabel('$b^*$')\n",
        "        if save:\n",
        "            plt.savefig('svm-db.png', dpi=300, bbox_inches='tight')\n",
        "        plt.show()"
      ],
      "execution_count": 0,
      "outputs": []
    },
    {
      "cell_type": "code",
      "metadata": {
        "id": "xnMN0Bt4eT1J",
        "colab_type": "code",
        "outputId": "d52209c0-0372-46b0-f186-46c8e8e9da07",
        "colab": {
          "base_uri": "https://localhost:8080/",
          "height": 301
        }
      },
      "source": [
        "lin = SupportVectorMachine()\n",
        "lin.train(X, y, solver='libsvm', verbose=True)\n",
        "lin.plot_db(True)"
      ],
      "execution_count": 0,
      "outputs": [
        {
          "output_type": "stream",
          "text": [
            "[LibSVM]"
          ],
          "name": "stdout"
        },
        {
          "output_type": "display_data",
          "data": {
            "image/png": "[encoded data removed]",
            "text/plain": [
              "<Figure size 432x288 with 1 Axes>"
            ]
          },
          "metadata": {
            "tags": []
          }
        }
      ]
    },
    {
      "cell_type": "code",
      "metadata": {
        "id": "9bKyI6TAqwQQ",
        "colab_type": "code",
        "outputId": "1f76e243-0adb-4e34-9b8d-989c828a39fa",
        "colab": {
          "base_uri": "https://localhost:8080/",
          "height": 172
        }
      },
      "source": [
        ""
      ],
      "execution_count": 0,
      "outputs": [
        {
          "output_type": "error",
          "ename": "TypeError",
          "evalue": "ignored",
          "traceback": [
            "\u001b[0;31m---------------------------------------------------------------------------\u001b[0m",
            "\u001b[0;31mTypeError\u001b[0m                                 Traceback (most recent call last)",
            "\u001b[0;32m<ipython-input-54-5fbf954cc8d3>\u001b[0m in \u001b[0;36m<module>\u001b[0;34m()\u001b[0m\n\u001b[0;32m----> 1\u001b[0;31m \u001b[0mlin\u001b[0m\u001b[0;34m(\u001b[0m\u001b[0mw\u001b[0m\u001b[0;34m)\u001b[0m\u001b[0;34m\u001b[0m\u001b[0;34m\u001b[0m\u001b[0m\n\u001b[0m",
            "\u001b[0;31mTypeError\u001b[0m: 'SupportVectorMachine' object is not callable"
          ]
        }
      ]
    },
    {
      "cell_type": "markdown",
      "metadata": {
        "id": "iHD-OUV3juyh",
        "colab_type": "text"
      },
      "source": [
        "#My Method - Support Vector Machine"
      ]
    },
    {
      "cell_type": "code",
      "metadata": {
        "id": "21mOXf5AjzAL",
        "colab_type": "code",
        "colab": {}
      },
      "source": [
        "xdat = np.concatenate((apple['rgbmean'], banana['rgbmean']))\n",
        "ydat = np.concatenate(( apple['circularity'], banana['circularity']))\n",
        "X = np.column_stack((xdat, ydat))\n",
        "z = np.concatenate((np.ones(len(apple['rgbmean'])), -np.ones(len(banana['rgbmean']))))\n",
        "n_samples, n_features = X.shape"
      ],
      "execution_count": 0,
      "outputs": []
    },
    {
      "cell_type": "code",
      "metadata": {
        "id": "1XmkqSL9nnjE",
        "colab_type": "code",
        "colab": {}
      },
      "source": [
        "H = ((X.dot(X.T))*(z.dot(z.T)))\n",
        "f = -np.ones(len(X))\n",
        "A = -np.identity(len(X))\n",
        "a = np.zeros(len(X))\n",
        "B = np.vstack((z, np.zeros((len(z)-1, len(z)))))\n",
        "b = np.zeros(len(X))"
      ],
      "execution_count": 0,
      "outputs": []
    },
    {
      "cell_type": "code",
      "metadata": {
        "id": "SE98kYCMpl7x",
        "colab_type": "code",
        "outputId": "fcb2050f-ca8b-4265-c338-68c08704a718",
        "colab": {
          "base_uri": "https://localhost:8080/",
          "height": 844
        }
      },
      "source": [
        "alpha = cvx.Variable(len(X))\n",
        "objective = cvx.Minimize(0.5*cvx.quad_form(alpha, H) + f.T*alpha)\n",
        "constraints = [A*alpha <= a, B*alpha == b]\n",
        "problem = cvx.Problem(objective, constraints)\n",
        "problem.solve(verbose=True)\n",
        "alpha = alpha.value\n",
        "print(alpha)\n",
        "alpha[alpha < 1e-12] = 0\n",
        "alpha"
      ],
      "execution_count": 0,
      "outputs": [
        {
          "output_type": "stream",
          "text": [
            "-----------------------------------------------------------------\n",
            "           OSQP v0.6.0  -  Operator Splitting QP Solver\n",
            "              (c) Bartolomeo Stellato,  Goran Banjac\n",
            "        University of Oxford  -  Stanford University 2019\n",
            "-----------------------------------------------------------------\n",
            "problem:  variables n = 33, constraints m = 66\n",
            "          nnz(P) + nnz(A) = 627\n",
            "settings: linear system solver = qdldl,\n",
            "          eps_abs = 1.0e-05, eps_rel = 1.0e-05,\n",
            "          eps_prim_inf = 1.0e-04, eps_dual_inf = 1.0e-04,\n",
            "          rho = 1.00e-01 (adaptive),\n",
            "          sigma = 1.00e-06, alpha = 1.60, max_iter = 10000\n",
            "          check_termination: on (interval 25),\n",
            "          scaling: on, scaled_termination: off\n",
            "          warm start: on, polish: on, time_limit: off\n",
            "\n",
            "iter   objective    pri res    dua res    rho        time\n",
            "   1  -6.2239e-02   4.34e-02   6.00e-01   1.00e-01   3.99e-04s\n",
            " 200  -2.4644e-02   1.15e-06   5.79e-05   6.26e-01   1.60e-03s\n",
            " 250  -2.4645e-02   2.17e-07   3.44e-06   6.26e-01   2.19e-03s\n",
            "plsh  -2.4645e-02   2.09e-23   1.14e-16   --------   2.65e-03s\n",
            "\n",
            "status:               solved\n",
            "solution polish:      successful\n",
            "number of iterations: 250\n",
            "optimal objective:    -0.0246\n",
            "run time:             2.65e-03s\n",
            "optimal rho estimate: 1.06e+00\n",
            "\n",
            "[ 1.41907050e-24  3.94388546e-24 -3.51031705e-24  7.43924853e-24\n",
            "  3.99704117e-24 -4.06383237e-24  8.49150186e-24 -3.53333970e-24\n",
            "  2.84536848e-24 -2.76565136e-24  6.65192070e-24  4.78570905e-24\n",
            "  2.63028744e-24  2.46453072e-02  4.27216744e-24 -1.58162005e-24\n",
            " -1.78550728e-24  2.56280371e-24 -1.63104137e-24 -2.57204913e-24\n",
            "  2.46453072e-02  8.54056460e-24 -3.14607432e-25 -2.83834198e-24\n",
            " -1.17094182e-24  9.12226876e-24  1.53045251e-24 -1.07116975e-23\n",
            " -1.56767037e-23 -6.39966528e-24  2.02092120e-25 -5.38021522e-24\n",
            "  2.16699480e-24]\n"
          ],
          "name": "stdout"
        },
        {
          "output_type": "execute_result",
          "data": {
            "text/plain": [
              "array([0.        , 0.        , 0.        , 0.        , 0.        ,\n",
              "       0.        , 0.        , 0.        , 0.        , 0.        ,\n",
              "       0.        , 0.        , 0.        , 0.02464531, 0.        ,\n",
              "       0.        , 0.        , 0.        , 0.        , 0.        ,\n",
              "       0.02464531, 0.        , 0.        , 0.        , 0.        ,\n",
              "       0.        , 0.        , 0.        , 0.        , 0.        ,\n",
              "       0.        , 0.        , 0.        ])"
            ]
          },
          "metadata": {
            "tags": []
          },
          "execution_count": 13
        }
      ]
    },
    {
      "cell_type": "code",
      "metadata": {
        "id": "ArcQmYJj6tMm",
        "colab_type": "code",
        "colab": {}
      },
      "source": [
        "w = (alpha*(z)).T.dot(X)\n",
        "w = w*100"
      ],
      "execution_count": 0,
      "outputs": []
    },
    {
      "cell_type": "code",
      "metadata": {
        "id": "wfbU_rkf69Gi",
        "colab_type": "code",
        "outputId": "52348a07-b5c4-45ea-8958-c2c454eb28f0",
        "colab": {
          "base_uri": "https://localhost:8080/",
          "height": 54
        }
      },
      "source": [
        "supp_idx = np.squeeze(np.where(alpha > 1e-12))\n",
        "w0 = (1/z[0]) - w.T.dot(X[0])\n",
        "print(w0)\n",
        "b = -w0/w[1]\n",
        "m = -w[0]/w[1]\n",
        "print(m,b)"
      ],
      "execution_count": 0,
      "outputs": [
        {
          "output_type": "stream",
          "text": [
            "0.5404032559545089\n",
            "0.6752562987882411 -0.5764404883676173\n"
          ],
          "name": "stdout"
        }
      ]
    },
    {
      "cell_type": "code",
      "metadata": {
        "id": "ry91uCNI8e7V",
        "colab_type": "code",
        "outputId": "226fb60a-1004-402d-ab84-41091be6a2bf",
        "colab": {
          "base_uri": "https://localhost:8080/",
          "height": 650
        }
      },
      "source": [
        "def f(x, w, b, c=0):\n",
        "    return (-w[0] * x - b + c) / w[1]\n",
        "\n",
        "plt.scatter(X[:, 0], X[:, 1], c=y, cmap='winter')\n",
        "ax = plt.gca()\n",
        "xlim = ax.get_xlim()\n",
        "xx = np.linspace(xlim[0], xlim[1])\n",
        "yy = m * xx + b\n",
        "plt.plot(xx, yy)"
      ],
      "execution_count": 0,
      "outputs": [
        {
          "output_type": "error",
          "ename": "IndexError",
          "evalue": "ignored",
          "traceback": [
            "\u001b[0;31m---------------------------------------------------------------------------\u001b[0m",
            "\u001b[0;31mIndexError\u001b[0m                                Traceback (most recent call last)",
            "\u001b[0;32m<ipython-input-16-90782ac66f41>\u001b[0m in \u001b[0;36m<module>\u001b[0;34m()\u001b[0m\n\u001b[1;32m      2\u001b[0m     \u001b[0;32mreturn\u001b[0m \u001b[0;34m(\u001b[0m\u001b[0;34m-\u001b[0m\u001b[0mw\u001b[0m\u001b[0;34m[\u001b[0m\u001b[0;36m0\u001b[0m\u001b[0;34m]\u001b[0m \u001b[0;34m*\u001b[0m \u001b[0mx\u001b[0m \u001b[0;34m-\u001b[0m \u001b[0mb\u001b[0m \u001b[0;34m+\u001b[0m \u001b[0mc\u001b[0m\u001b[0;34m)\u001b[0m \u001b[0;34m/\u001b[0m \u001b[0mw\u001b[0m\u001b[0;34m[\u001b[0m\u001b[0;36m1\u001b[0m\u001b[0;34m]\u001b[0m\u001b[0;34m\u001b[0m\u001b[0;34m\u001b[0m\u001b[0m\n\u001b[1;32m      3\u001b[0m \u001b[0;34m\u001b[0m\u001b[0m\n\u001b[0;32m----> 4\u001b[0;31m \u001b[0mplt\u001b[0m\u001b[0;34m.\u001b[0m\u001b[0mscatter\u001b[0m\u001b[0;34m(\u001b[0m\u001b[0mX\u001b[0m\u001b[0;34m[\u001b[0m\u001b[0;34m:\u001b[0m\u001b[0;34m,\u001b[0m \u001b[0;36m0\u001b[0m\u001b[0;34m]\u001b[0m\u001b[0;34m,\u001b[0m \u001b[0mX\u001b[0m\u001b[0;34m[\u001b[0m\u001b[0;34m:\u001b[0m\u001b[0;34m,\u001b[0m \u001b[0;36m1\u001b[0m\u001b[0;34m]\u001b[0m\u001b[0;34m,\u001b[0m \u001b[0mc\u001b[0m\u001b[0;34m=\u001b[0m\u001b[0my\u001b[0m\u001b[0;34m,\u001b[0m \u001b[0mcmap\u001b[0m\u001b[0;34m=\u001b[0m\u001b[0;34m'winter'\u001b[0m\u001b[0;34m)\u001b[0m\u001b[0;34m\u001b[0m\u001b[0;34m\u001b[0m\u001b[0m\n\u001b[0m\u001b[1;32m      5\u001b[0m \u001b[0max\u001b[0m \u001b[0;34m=\u001b[0m \u001b[0mplt\u001b[0m\u001b[0;34m.\u001b[0m\u001b[0mgca\u001b[0m\u001b[0;34m(\u001b[0m\u001b[0;34m)\u001b[0m\u001b[0;34m\u001b[0m\u001b[0;34m\u001b[0m\u001b[0m\n\u001b[1;32m      6\u001b[0m \u001b[0mxlim\u001b[0m \u001b[0;34m=\u001b[0m \u001b[0max\u001b[0m\u001b[0;34m.\u001b[0m\u001b[0mget_xlim\u001b[0m\u001b[0;34m(\u001b[0m\u001b[0;34m)\u001b[0m\u001b[0;34m\u001b[0m\u001b[0;34m\u001b[0m\u001b[0m\n",
            "\u001b[0;32m/usr/local/lib/python3.6/dist-packages/matplotlib/pyplot.py\u001b[0m in \u001b[0;36mscatter\u001b[0;34m(x, y, s, c, marker, cmap, norm, vmin, vmax, alpha, linewidths, verts, edgecolors, plotnonfinite, data, **kwargs)\u001b[0m\n\u001b[1;32m   2845\u001b[0m         \u001b[0mverts\u001b[0m\u001b[0;34m=\u001b[0m\u001b[0mverts\u001b[0m\u001b[0;34m,\u001b[0m \u001b[0medgecolors\u001b[0m\u001b[0;34m=\u001b[0m\u001b[0medgecolors\u001b[0m\u001b[0;34m,\u001b[0m\u001b[0;34m\u001b[0m\u001b[0;34m\u001b[0m\u001b[0m\n\u001b[1;32m   2846\u001b[0m         plotnonfinite=plotnonfinite, **({\"data\": data} if data is not\n\u001b[0;32m-> 2847\u001b[0;31m         None else {}), **kwargs)\n\u001b[0m\u001b[1;32m   2848\u001b[0m     \u001b[0msci\u001b[0m\u001b[0;34m(\u001b[0m\u001b[0m__ret\u001b[0m\u001b[0;34m)\u001b[0m\u001b[0;34m\u001b[0m\u001b[0;34m\u001b[0m\u001b[0m\n\u001b[1;32m   2849\u001b[0m     \u001b[0;32mreturn\u001b[0m \u001b[0m__ret\u001b[0m\u001b[0;34m\u001b[0m\u001b[0;34m\u001b[0m\u001b[0m\n",
            "\u001b[0;32m/usr/local/lib/python3.6/dist-packages/matplotlib/__init__.py\u001b[0m in \u001b[0;36minner\u001b[0;34m(ax, data, *args, **kwargs)\u001b[0m\n\u001b[1;32m   1599\u001b[0m     \u001b[0;32mdef\u001b[0m \u001b[0minner\u001b[0m\u001b[0;34m(\u001b[0m\u001b[0max\u001b[0m\u001b[0;34m,\u001b[0m \u001b[0;34m*\u001b[0m\u001b[0margs\u001b[0m\u001b[0;34m,\u001b[0m \u001b[0mdata\u001b[0m\u001b[0;34m=\u001b[0m\u001b[0;32mNone\u001b[0m\u001b[0;34m,\u001b[0m \u001b[0;34m**\u001b[0m\u001b[0mkwargs\u001b[0m\u001b[0;34m)\u001b[0m\u001b[0;34m:\u001b[0m\u001b[0;34m\u001b[0m\u001b[0;34m\u001b[0m\u001b[0m\n\u001b[1;32m   1600\u001b[0m         \u001b[0;32mif\u001b[0m \u001b[0mdata\u001b[0m \u001b[0;32mis\u001b[0m \u001b[0;32mNone\u001b[0m\u001b[0;34m:\u001b[0m\u001b[0;34m\u001b[0m\u001b[0;34m\u001b[0m\u001b[0m\n\u001b[0;32m-> 1601\u001b[0;31m             \u001b[0;32mreturn\u001b[0m \u001b[0mfunc\u001b[0m\u001b[0;34m(\u001b[0m\u001b[0max\u001b[0m\u001b[0;34m,\u001b[0m \u001b[0;34m*\u001b[0m\u001b[0mmap\u001b[0m\u001b[0;34m(\u001b[0m\u001b[0msanitize_sequence\u001b[0m\u001b[0;34m,\u001b[0m \u001b[0margs\u001b[0m\u001b[0;34m)\u001b[0m\u001b[0;34m,\u001b[0m \u001b[0;34m**\u001b[0m\u001b[0mkwargs\u001b[0m\u001b[0;34m)\u001b[0m\u001b[0;34m\u001b[0m\u001b[0;34m\u001b[0m\u001b[0m\n\u001b[0m\u001b[1;32m   1602\u001b[0m \u001b[0;34m\u001b[0m\u001b[0m\n\u001b[1;32m   1603\u001b[0m         \u001b[0mbound\u001b[0m \u001b[0;34m=\u001b[0m \u001b[0mnew_sig\u001b[0m\u001b[0;34m.\u001b[0m\u001b[0mbind\u001b[0m\u001b[0;34m(\u001b[0m\u001b[0max\u001b[0m\u001b[0;34m,\u001b[0m \u001b[0;34m*\u001b[0m\u001b[0margs\u001b[0m\u001b[0;34m,\u001b[0m \u001b[0;34m**\u001b[0m\u001b[0mkwargs\u001b[0m\u001b[0;34m)\u001b[0m\u001b[0;34m\u001b[0m\u001b[0;34m\u001b[0m\u001b[0m\n",
            "\u001b[0;32m/usr/local/lib/python3.6/dist-packages/matplotlib/axes/_axes.py\u001b[0m in \u001b[0;36mscatter\u001b[0;34m(self, x, y, s, c, marker, cmap, norm, vmin, vmax, alpha, linewidths, verts, edgecolors, plotnonfinite, **kwargs)\u001b[0m\n\u001b[1;32m   4452\u001b[0m             self._parse_scatter_color_args(\n\u001b[1;32m   4453\u001b[0m                 \u001b[0mc\u001b[0m\u001b[0;34m,\u001b[0m \u001b[0medgecolors\u001b[0m\u001b[0;34m,\u001b[0m \u001b[0mkwargs\u001b[0m\u001b[0;34m,\u001b[0m \u001b[0mxshape\u001b[0m\u001b[0;34m,\u001b[0m \u001b[0myshape\u001b[0m\u001b[0;34m,\u001b[0m\u001b[0;34m\u001b[0m\u001b[0;34m\u001b[0m\u001b[0m\n\u001b[0;32m-> 4454\u001b[0;31m                 get_next_color_func=self._get_patches_for_fill.get_next_color)\n\u001b[0m\u001b[1;32m   4455\u001b[0m \u001b[0;34m\u001b[0m\u001b[0m\n\u001b[1;32m   4456\u001b[0m         \u001b[0;32mif\u001b[0m \u001b[0mplotnonfinite\u001b[0m \u001b[0;32mand\u001b[0m \u001b[0mcolors\u001b[0m \u001b[0;32mis\u001b[0m \u001b[0;32mNone\u001b[0m\u001b[0;34m:\u001b[0m\u001b[0;34m\u001b[0m\u001b[0;34m\u001b[0m\u001b[0m\n",
            "\u001b[0;32m/usr/local/lib/python3.6/dist-packages/matplotlib/axes/_axes.py\u001b[0m in \u001b[0;36m_parse_scatter_color_args\u001b[0;34m(c, edgecolors, kwargs, xshape, yshape, get_next_color_func)\u001b[0m\n\u001b[1;32m   4263\u001b[0m             \u001b[0;32mtry\u001b[0m\u001b[0;34m:\u001b[0m  \u001b[0;31m# First, does 'c' look suitable for value-mapping?\u001b[0m\u001b[0;34m\u001b[0m\u001b[0;34m\u001b[0m\u001b[0m\n\u001b[1;32m   4264\u001b[0m                 \u001b[0mc_array\u001b[0m \u001b[0;34m=\u001b[0m \u001b[0mnp\u001b[0m\u001b[0;34m.\u001b[0m\u001b[0masanyarray\u001b[0m\u001b[0;34m(\u001b[0m\u001b[0mc\u001b[0m\u001b[0;34m,\u001b[0m \u001b[0mdtype\u001b[0m\u001b[0;34m=\u001b[0m\u001b[0mfloat\u001b[0m\u001b[0;34m)\u001b[0m\u001b[0;34m\u001b[0m\u001b[0;34m\u001b[0m\u001b[0m\n\u001b[0;32m-> 4265\u001b[0;31m                 \u001b[0mn_elem\u001b[0m \u001b[0;34m=\u001b[0m \u001b[0mc_array\u001b[0m\u001b[0;34m.\u001b[0m\u001b[0mshape\u001b[0m\u001b[0;34m[\u001b[0m\u001b[0;36m0\u001b[0m\u001b[0;34m]\u001b[0m\u001b[0;34m\u001b[0m\u001b[0;34m\u001b[0m\u001b[0m\n\u001b[0m\u001b[1;32m   4266\u001b[0m                 \u001b[0;32mif\u001b[0m \u001b[0mc_array\u001b[0m\u001b[0;34m.\u001b[0m\u001b[0mshape\u001b[0m \u001b[0;32min\u001b[0m \u001b[0;34m[\u001b[0m\u001b[0mxshape\u001b[0m\u001b[0;34m,\u001b[0m \u001b[0myshape\u001b[0m\u001b[0;34m]\u001b[0m\u001b[0;34m:\u001b[0m\u001b[0;34m\u001b[0m\u001b[0;34m\u001b[0m\u001b[0m\n\u001b[1;32m   4267\u001b[0m                     \u001b[0mc\u001b[0m \u001b[0;34m=\u001b[0m \u001b[0mnp\u001b[0m\u001b[0;34m.\u001b[0m\u001b[0mma\u001b[0m\u001b[0;34m.\u001b[0m\u001b[0mravel\u001b[0m\u001b[0;34m(\u001b[0m\u001b[0mc_array\u001b[0m\u001b[0;34m)\u001b[0m\u001b[0;34m\u001b[0m\u001b[0;34m\u001b[0m\u001b[0m\n",
            "\u001b[0;31mIndexError\u001b[0m: tuple index out of range"
          ]
        },
        {
          "output_type": "display_data",
          "data": {
            "image/png": "[encoded data removed]",
            "text/plain": [
              "<Figure size 432x288 with 1 Axes>"
            ]
          },
          "metadata": {
            "tags": []
          }
        }
      ]
    },
    {
      "cell_type": "code",
      "metadata": {
        "id": "2qGZH99OrKLi",
        "colab_type": "code",
        "outputId": "91b13771-2d1c-41c8-b1ad-88634fd4d2f0",
        "colab": {
          "base_uri": "https://localhost:8080/",
          "height": 90
        }
      },
      "source": [
        "problem = svm.SVC(kernel='linear', verbose=False, max_iter = 10000000)\n",
        "problem.fit(X, z)"
      ],
      "execution_count": 0,
      "outputs": [
        {
          "output_type": "execute_result",
          "data": {
            "text/plain": [
              "SVC(C=1.0, cache_size=200, class_weight=None, coef0=0.0,\n",
              "    decision_function_shape='ovr', degree=3, gamma='auto_deprecated',\n",
              "    kernel='linear', max_iter=10000000, probability=False, random_state=None,\n",
              "    shrinking=True, tol=0.001, verbose=False)"
            ]
          },
          "metadata": {
            "tags": []
          },
          "execution_count": 25
        }
      ]
    },
    {
      "cell_type": "code",
      "metadata": {
        "id": "aXiLQNjlAnsL",
        "colab_type": "code",
        "outputId": "aa03398e-5ccb-4013-850a-7a86967d784f",
        "colab": {
          "base_uri": "https://localhost:8080/",
          "height": 283
        }
      },
      "source": [
        "plt.scatter(X[:, 0], X[:, 1], c=z, cmap='winter');\n",
        "ax = plt.gca()\n",
        "xlim = ax.get_xlim()\n",
        "w = clf.coef_[0]\n",
        "a = -w[0] / w[1]\n",
        "xx = np.linspace(xlim[0], xlim[1])\n",
        "yy = a * xx - clf.intercept_[0] / w[1]\n",
        "plt.plot(xx, yy)\n",
        "yy = a * xx - (clf.intercept_[0] - 1) / w[1]\n",
        "plt.plot(xx, yy, 'k--')\n",
        "yy = a * xx - (clf.intercept_[0] + 1) / w[1]\n",
        "plt.plot(xx, yy, 'k--')\n",
        "ax.plot(clf.support_vectors_.T[0], clf.support_vectors_.T[1], '*', mfc='None', mew=1.5, ms=8, mec='r')"
      ],
      "execution_count": 0,
      "outputs": [
        {
          "output_type": "execute_result",
          "data": {
            "text/plain": [
              "[<matplotlib.lines.Line2D at 0x7fe039362e10>]"
            ]
          },
          "metadata": {
            "tags": []
          },
          "execution_count": 26
        },
        {
          "output_type": "display_data",
          "data": {
            "image/png": "[encoded data removed]",
            "text/plain": [
              "<Figure size 432x288 with 1 Axes>"
            ]
          },
          "metadata": {
            "tags": []
          }
        }
      ]
    },
    {
      "cell_type": "code",
      "metadata": {
        "id": "U0ErJlUE80aK",
        "colab_type": "code",
        "colab": {}
      },
      "source": [
        "ax = plt.gca()\n",
        "xlim = ax.get_xlim()\n",
        "w = svc.coef_[0]\n",
        "a = -w[0] / w[1]\n",
        "xx = np.linspace(xlim[0], xlim[1])\n",
        "yy = a * xx - svc.intercept_[0] / w[1]\n",
        "plt.plot(xx, yy)\n",
        "yy = a * xx - (svc.intercept_[0] - 1) / w[1]\n",
        "plt.plot(xx, yy, 'k--')\n",
        "yy = a * xx - (svc.intercept_[0] + 1) / w[1]\n",
        "plt.plot(xx, yy, 'k--')"
      ],
      "execution_count": 0,
      "outputs": []
    },
    {
      "cell_type": "markdown",
      "metadata": {
        "id": "V8HqZWIKhXX-",
        "colab_type": "text"
      },
      "source": [
        "#My Method - Support Vector Machine via Packages"
      ]
    },
    {
      "cell_type": "code",
      "metadata": {
        "id": "-Qkc8SfEKFGn",
        "colab_type": "code",
        "colab": {}
      },
      "source": [
        "xdat = np.concatenate((apple['rgbmean'], banana['rgbmean']))\n",
        "ydat = np.concatenate(( apple['circularity'], banana['circularity']))"
      ],
      "execution_count": 0,
      "outputs": []
    },
    {
      "cell_type": "code",
      "metadata": {
        "id": "Au1Q3-1OMB_X",
        "colab_type": "code",
        "colab": {}
      },
      "source": [
        "X = np.column_stack((xdat, ydat))\n",
        "y = np.concatenate((np.ones(len(apple['rgbmean'])), -np.ones(len(banana['rgbmean']))))"
      ],
      "execution_count": 0,
      "outputs": []
    },
    {
      "cell_type": "code",
      "metadata": {
        "id": "JxCBKNnVQt7X",
        "colab_type": "code",
        "colab": {}
      },
      "source": [
        " n_samples, n_features = X.shape"
      ],
      "execution_count": 0,
      "outputs": []
    },
    {
      "cell_type": "code",
      "metadata": {
        "id": "fxlvuFZTeT1L",
        "colab_type": "code",
        "outputId": "e54530ae-5ac6-4ffb-cf1b-4a81d19c2e4e",
        "colab": {
          "base_uri": "https://localhost:8080/",
          "height": 35
        }
      },
      "source": [
        "K = np.zeros((n_samples, n_samples))\n",
        "for i in range(n_samples):\n",
        "  for j in range(n_samples):\n",
        "    K[i,j] = np.dot(X[i], X[j])"
      ],
      "execution_count": 0,
      "outputs": [
        {
          "output_type": "execute_result",
          "data": {
            "text/plain": [
              "(33, 33)"
            ]
          },
          "metadata": {
            "tags": []
          },
          "execution_count": 60
        }
      ]
    },
    {
      "cell_type": "code",
      "metadata": {
        "id": "sMbWlRuHhySL",
        "colab_type": "code",
        "colab": {}
      },
      "source": [
        "P = cvxopt.matrix(np.outer(y, y) * K)\n",
        "q = cvxopt.matrix(np.ones(n_samples) * -1)\n",
        "A = cvxopt.matrix(y, (1, n_samples))\n",
        "b = cvxopt.matrix(0.0)\n",
        "G = cvxopt.matrix(np.diag(np.ones(n_samples) * -1))\n",
        "h = cvxopt.matrix(np.zeros(n_samples))"
      ],
      "execution_count": 0,
      "outputs": []
    },
    {
      "cell_type": "code",
      "metadata": {
        "id": "CczCCPxYio4E",
        "colab_type": "code",
        "outputId": "c8c8f982-42bc-4456-fbd8-7ddc9e411c4f",
        "colab": {
          "base_uri": "https://localhost:8080/",
          "height": 274
        }
      },
      "source": [
        "solution = cvxopt.solvers.qp(P, q, G, h, A, b)"
      ],
      "execution_count": 0,
      "outputs": [
        {
          "output_type": "stream",
          "text": [
            "     pcost       dcost       gap    pres   dres\n",
            " 0: -1.1971e+01 -3.3195e+01  2e+01  1e-16  2e+00\n",
            " 1: -1.6471e+01 -2.4041e+01  8e+00  7e-16  8e-01\n",
            " 2: -2.6567e+01 -3.5891e+01  9e+00  4e-15  8e-01\n",
            " 3: -4.7889e+01 -5.8784e+01  1e+01  2e-15  3e-01\n",
            " 4: -5.2283e+01 -6.1089e+01  9e+00  1e-14  2e-01\n",
            " 5: -5.5723e+01 -5.8639e+01  3e+00  9e-15  4e-02\n",
            " 6: -5.4487e+01 -5.8600e+01  4e+00  2e-14  9e-15\n",
            " 7: -5.5953e+01 -5.7218e+01  1e+00  2e-14  8e-15\n",
            " 8: -5.6883e+01 -5.6974e+01  9e-02  1e-14  8e-15\n",
            " 9: -5.6930e+01 -5.6935e+01  5e-03  2e-14  9e-15\n",
            "10: -5.6931e+01 -5.6931e+01  7e-05  1e-14  8e-15\n",
            "11: -5.6931e+01 -5.6931e+01  7e-07  2e-14  9e-15\n",
            "Optimal solution found.\n"
          ],
          "name": "stdout"
        }
      ]
    },
    {
      "cell_type": "markdown",
      "metadata": {
        "id": "--Ni4aTLRfI3",
        "colab_type": "text"
      },
      "source": [
        ""
      ]
    },
    {
      "cell_type": "code",
      "metadata": {
        "id": "ZgOpPRrgkI3i",
        "colab_type": "code",
        "outputId": "959d9c8c-8eb2-486b-f2d1-c619ef42f447",
        "colab": {
          "base_uri": "https://localhost:8080/",
          "height": 182
        }
      },
      "source": [
        "a = np.ravel(solution['x'])\n",
        "a"
      ],
      "execution_count": 0,
      "outputs": [
        {
          "output_type": "execute_result",
          "data": {
            "text/plain": [
              "array([1.65224872e-08, 1.77463344e-08, 2.45745532e-09, 2.24088820e-09,\n",
              "       4.12112725e-09, 7.45907837e-09, 2.33308325e-09, 2.23312977e-09,\n",
              "       7.09365448e-09, 5.69310750e+01, 4.62763225e-09, 9.40678629e-09,\n",
              "       1.51940276e-08, 3.62781240e-09, 8.82025690e-09, 1.70412454e-09,\n",
              "       1.12533480e-08, 8.12482234e-09, 2.48776667e-09, 1.79698955e-08,\n",
              "       5.81861036e-09, 4.09993270e-09, 2.16130625e-08, 1.85215925e-08,\n",
              "       1.86867638e+00, 2.88552497e-09, 3.52629596e-09, 4.30804609e-09,\n",
              "       5.50623987e+01, 6.60952284e-09, 3.26444098e-09, 1.40011273e-08,\n",
              "       4.30626068e-09])"
            ]
          },
          "metadata": {
            "tags": []
          },
          "execution_count": 130
        }
      ]
    },
    {
      "cell_type": "code",
      "metadata": {
        "id": "x7t2y_4pEKUS",
        "colab_type": "code",
        "outputId": "c7660125-0236-4b77-fab5-4001d25f2b39",
        "colab": {
          "base_uri": "https://localhost:8080/",
          "height": 35
        }
      },
      "source": [
        "sv = a > 1e-5\n",
        "ind = np.arange(len(a))[sv]\n",
        "ind"
      ],
      "execution_count": 0,
      "outputs": [
        {
          "output_type": "execute_result",
          "data": {
            "text/plain": [
              "array([ 9, 24, 28])"
            ]
          },
          "metadata": {
            "tags": []
          },
          "execution_count": 131
        }
      ]
    },
    {
      "cell_type": "code",
      "metadata": {
        "id": "LgrtDVY8rSVv",
        "colab_type": "code",
        "outputId": "b86a07d9-7db8-43a1-81bb-64af0a47422a",
        "colab": {
          "base_uri": "https://localhost:8080/",
          "height": 35
        }
      },
      "source": [
        "a = a[ind]\n",
        "a"
      ],
      "execution_count": 0,
      "outputs": [
        {
          "output_type": "execute_result",
          "data": {
            "text/plain": [
              "array([56.93107502,  1.86867638, 55.06239866])"
            ]
          },
          "metadata": {
            "tags": []
          },
          "execution_count": 132
        }
      ]
    },
    {
      "cell_type": "code",
      "metadata": {
        "id": "5jnIQ0S5k4tG",
        "colab_type": "code",
        "outputId": "37c28663-6507-4978-db69-a37604716416",
        "colab": {
          "base_uri": "https://localhost:8080/",
          "height": 72
        }
      },
      "source": [
        "sv = X[ind]\n",
        "sv"
      ],
      "execution_count": 0,
      "outputs": [
        {
          "output_type": "execute_result",
          "data": {
            "text/plain": [
              "array([[0.58123307, 0.61157738],\n",
              "       [0.74491927, 0.45916098],\n",
              "       [0.76659002, 0.5834677 ]])"
            ]
          },
          "metadata": {
            "tags": []
          },
          "execution_count": 133
        }
      ]
    },
    {
      "cell_type": "code",
      "metadata": {
        "id": "_MTxBbAXlIo6",
        "colab_type": "code",
        "outputId": "b8137b2d-5a88-4e1e-9870-39e915c5ac68",
        "colab": {
          "base_uri": "https://localhost:8080/",
          "height": 35
        }
      },
      "source": [
        "sv_y = y[ind]\n",
        "sv_y"
      ],
      "execution_count": 0,
      "outputs": [
        {
          "output_type": "execute_result",
          "data": {
            "text/plain": [
              "array([ 1., -1., -1.])"
            ]
          },
          "metadata": {
            "tags": []
          },
          "execution_count": 134
        }
      ]
    },
    {
      "cell_type": "code",
      "metadata": {
        "id": "SO_9Nsydrngk",
        "colab_type": "code",
        "outputId": "afed8234-0784-41eb-9756-ed7faea83387",
        "colab": {
          "base_uri": "https://localhost:8080/",
          "height": 146
        }
      },
      "source": [
        "K[9]"
      ],
      "execution_count": 0,
      "outputs": [
        {
          "output_type": "execute_result",
          "data": {
            "text/plain": [
              "array([0.89214394, 0.83532863, 0.76539012, 0.82679792, 0.69528095,\n",
              "       0.83398731, 0.79211188, 0.74317221, 0.82902141, 0.71185878,\n",
              "       0.79757736, 0.87216614, 0.76595937, 0.68759995, 0.79464745,\n",
              "       0.76892528, 0.80523482, 0.87946015, 0.74026694, 0.80076136,\n",
              "       0.60425796, 0.7106599 , 0.76337752, 0.75426092, 0.71378419,\n",
              "       0.71070332, 0.69929698, 0.80529446, 0.80240312, 0.76643496,\n",
              "       0.64228498, 0.88619578, 0.74688707])"
            ]
          },
          "metadata": {
            "tags": []
          },
          "execution_count": 136
        }
      ]
    },
    {
      "cell_type": "code",
      "metadata": {
        "id": "fmNCodeVlmSz",
        "colab_type": "code",
        "outputId": "50c2c31f-f9cd-4359-f9f8-21dd4301b46e",
        "colab": {
          "base_uri": "https://localhost:8080/",
          "height": 35
        }
      },
      "source": [
        "b = 0\n",
        "for n in range(len(a)):\n",
        "  b += sv_y[n]\n",
        "  b -= np.sum(a * sv_y )\n",
        "b /= len(a)\n",
        "b"
      ],
      "execution_count": 0,
      "outputs": [
        {
          "output_type": "execute_result",
          "data": {
            "text/plain": [
              "-112.8621500677355"
            ]
          },
          "metadata": {
            "tags": []
          },
          "execution_count": 115
        }
      ]
    },
    {
      "cell_type": "code",
      "metadata": {
        "id": "aRxGAACZlxi3",
        "colab_type": "code",
        "outputId": "e46a5a64-fcbc-40c3-c10b-6eb1bb89aaf4",
        "colab": {
          "base_uri": "https://localhost:8080/",
          "height": 35
        }
      },
      "source": [
        "w = np.zeros(n_features)\n",
        "for n in range(len(a)):\n",
        "  w += a[n] *sv_y[n] *sv[n]\n",
        "w"
      ],
      "execution_count": 0,
      "outputs": [
        {
          "output_type": "execute_result",
          "data": {
            "text/plain": [
              "array([-10.51207475,   1.83260335])"
            ]
          },
          "metadata": {
            "tags": []
          },
          "execution_count": 138
        }
      ]
    },
    {
      "cell_type": "code",
      "metadata": {
        "id": "NIkxgDV3oi8S",
        "colab_type": "code",
        "outputId": "57529ffd-2ed5-47f4-deaa-2dee1348240d",
        "colab": {
          "base_uri": "https://localhost:8080/",
          "height": 35
        }
      },
      "source": [
        "def project(fspace):\n",
        "  return np.dot(fspace, w) + b\n",
        "def predict(fspace):\n",
        "  return np.sign(project(fspace))"
      ],
      "execution_count": 0,
      "outputs": [
        {
          "output_type": "execute_result",
          "data": {
            "text/plain": [
              "array([56.93107502,  1.86867638, 55.06239866])"
            ]
          },
          "metadata": {
            "tags": []
          },
          "execution_count": 125
        }
      ]
    },
    {
      "cell_type": "code",
      "metadata": {
        "id": "iLMTGSgOpYth",
        "colab_type": "code",
        "outputId": "5d401a54-9cab-4fcc-a1e6-0d17f8627d08",
        "colab": {
          "base_uri": "https://localhost:8080/",
          "height": 54
        }
      },
      "source": [
        "tmp = np.ones(len(X))\n",
        "tmp"
      ],
      "execution_count": 0,
      "outputs": [
        {
          "output_type": "execute_result",
          "data": {
            "text/plain": [
              "array([1., 1., 1., 1., 1., 1., 1., 1., 1., 1., 1., 1., 1., 1., 1., 1., 1.,\n",
              "       1., 1., 1., 1., 1., 1., 1., 1., 1., 1., 1., 1., 1., 1., 1., 1.])"
            ]
          },
          "metadata": {
            "tags": []
          },
          "execution_count": 140
        }
      ]
    },
    {
      "cell_type": "code",
      "metadata": {
        "id": "GKKzgf3lqDIz",
        "colab_type": "code",
        "outputId": "ad2aaa4c-6fd6-4016-8e55-18c5fb0f5524",
        "colab": {
          "base_uri": "https://localhost:8080/",
          "height": 72
        }
      },
      "source": [
        "y = tmp*y\n",
        "y"
      ],
      "execution_count": 0,
      "outputs": [
        {
          "output_type": "execute_result",
          "data": {
            "text/plain": [
              "array([ 1.,  1.,  1.,  1.,  1.,  1.,  1.,  1.,  1.,  1.,  1.,  1.,  1.,\n",
              "        1.,  1.,  1.,  1.,  1.,  1., -1., -1., -1., -1., -1., -1., -1.,\n",
              "       -1., -1., -1., -1., -1., -1., -1.])"
            ]
          },
          "metadata": {
            "tags": []
          },
          "execution_count": 141
        }
      ]
    },
    {
      "cell_type": "code",
      "metadata": {
        "id": "nE6UCaXSqsFO",
        "colab_type": "code",
        "outputId": "55948459-494b-4941-98ae-101f1268647c",
        "colab": {
          "base_uri": "https://localhost:8080/",
          "height": 265
        }
      },
      "source": [
        "def f(x, w, b, c=0):\n",
        "    return (-w[0] * x - b + c) / w[1]\n",
        "\n",
        "plt.scatter(X[:, 0], X[:, 1], c=y, cmap='winter')\n",
        "\n",
        "a0 = -4; a1 = f(a0, w, b)\n",
        "b0 = 4; b1 = f(b0, w, b)\n",
        "#plt.plot([a0,b0], [a1,b1], 'k')\n",
        "\n",
        "a0 = -4; a1 = f(a0, w,b, 1)\n",
        "b0 = 4; b1 = f(b0, w, b, 1)\n",
        "#plt.plot([a0,b0], [a1,b1], 'k--')\n",
        "\n",
        "a0 = -4; a1 = f(a0, w, b, -1)\n",
        "b0 = 4; b1 = f(b0, w, b, -1)\n",
        "#plt.plot([a0,b0], [a1,b1], 'k--')\n",
        "\n"
      ],
      "execution_count": 0,
      "outputs": [
        {
          "output_type": "display_data",
          "data": {
            "image/png": "[encoded data removed]",
            "text/plain": [
              "<Figure size 432x288 with 1 Axes>"
            ]
          },
          "metadata": {
            "tags": []
          }
        }
      ]
    },
    {
      "cell_type": "code",
      "metadata": {
        "id": "IxGLDFxYqt9I",
        "colab_type": "code",
        "colab": {}
      },
      "source": [
        "import numpy as np\n",
        "import cvxopt\n",
        "from sklearn.datasets.samples_generator import make_blobs\n",
        "from sklearn.model_selection import train_test_split\n",
        "from matplotlib import pyplot as plt\n",
        "from sklearn.svm import LinearSVC\n",
        "from sklearn.metrics import confusion_matrix"
      ],
      "execution_count": 0,
      "outputs": []
    },
    {
      "cell_type": "code",
      "metadata": {
        "id": "x8dDbOBb0zVU",
        "colab_type": "code",
        "outputId": "8b2e6801-9e31-4ae0-aa52-eb44050b1157",
        "colab": {
          "base_uri": "https://localhost:8080/",
          "height": 90
        }
      },
      "source": [
        "svc = LinearSVC(max_iter = 100000000)\n",
        "svc.fit(X, y)"
      ],
      "execution_count": 0,
      "outputs": [
        {
          "output_type": "execute_result",
          "data": {
            "text/plain": [
              "LinearSVC(C=1.0, class_weight=None, dual=True, fit_intercept=True,\n",
              "          intercept_scaling=1, loss='squared_hinge', max_iter=100000000,\n",
              "          multi_class='ovr', penalty='l2', random_state=None, tol=0.0001,\n",
              "          verbose=0)"
            ]
          },
          "metadata": {
            "tags": []
          },
          "execution_count": 89
        }
      ]
    },
    {
      "cell_type": "code",
      "metadata": {
        "id": "EuR42x1B00VU",
        "colab_type": "code",
        "outputId": "c145e43f-390a-44f7-edcf-8fe62738ef3d",
        "colab": {
          "base_uri": "https://localhost:8080/",
          "height": 283
        }
      },
      "source": [
        "plt.scatter(X[:, 0], X[:, 1], c=y, cmap='winter');\n",
        "ax = plt.gca()\n",
        "xlim = ax.get_xlim()\n",
        "w = svc.coef_[0]\n",
        "a = -w[0] / w[1]\n",
        "xx = np.linspace(xlim[0], xlim[1])\n",
        "yy = a * xx - svc.intercept_[0] / w[1]\n",
        "plt.plot(xx, yy)\n",
        "yy = a * xx - (svc.intercept_[0] - 1) / w[1]\n",
        "plt.plot(xx, yy, 'k--')\n",
        "yy = a * xx - (svc.intercept_[0] + 1) / w[1]\n",
        "plt.plot(xx, yy, 'k--')"
      ],
      "execution_count": 0,
      "outputs": [
        {
          "output_type": "execute_result",
          "data": {
            "text/plain": [
              "[<matplotlib.lines.Line2D at 0x7f17efed98d0>]"
            ]
          },
          "metadata": {
            "tags": []
          },
          "execution_count": 90
        },
        {
          "output_type": "display_data",
          "data": {
            "image/png": "[encoded data removed]",
            "text/plain": [
              "<Figure size 432x288 with 1 Axes>"
            ]
          },
          "metadata": {
            "tags": []
          }
        }
      ]
    },
    {
      "cell_type": "code",
      "metadata": {
        "id": "sTrCOBcR00_S",
        "colab_type": "code",
        "outputId": "be0233ca-5bf6-49da-8cf5-e461526c8c2f",
        "colab": {
          "base_uri": "https://localhost:8080/",
          "height": 35
        }
      },
      "source": [
        "w"
      ],
      "execution_count": 0,
      "outputs": [
        {
          "output_type": "execute_result",
          "data": {
            "text/plain": [
              "array([-2.42145074,  2.26851386])"
            ]
          },
          "metadata": {
            "tags": []
          },
          "execution_count": 92
        }
      ]
    },
    {
      "cell_type": "code",
      "metadata": {
        "id": "3PXsbpWG02HN",
        "colab_type": "code",
        "outputId": "622d23b2-d135-4d90-db19-f95b498ce401",
        "colab": {
          "base_uri": "https://localhost:8080/",
          "height": 35
        }
      },
      "source": [
        "f(-4,w,b,1)"
      ],
      "execution_count": 0,
      "outputs": [
        {
          "output_type": "execute_result",
          "data": {
            "text/plain": [
              "205.53494005003202"
            ]
          },
          "metadata": {
            "tags": []
          },
          "execution_count": 147
        }
      ]
    },
    {
      "cell_type": "code",
      "metadata": {
        "id": "Ef41T8Hv092Q",
        "colab_type": "code",
        "colab": {}
      },
      "source": [
        ""
      ],
      "execution_count": 0,
      "outputs": []
    }
  ]
}